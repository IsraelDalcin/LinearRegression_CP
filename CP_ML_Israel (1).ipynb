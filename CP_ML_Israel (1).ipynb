{
  "nbformat": 4,
  "nbformat_minor": 0,
  "metadata": {
    "colab": {
      "provenance": [],
      "collapsed_sections": [
        "RUExk287r7P9",
        "XP15tQKAWIOi",
        "qR5zr_fwWQIK",
        "zC7CNRHmYezT",
        "yJ22n89CqH8J"
      ]
    },
    "kernelspec": {
      "name": "python3",
      "display_name": "Python 3"
    },
    "language_info": {
      "name": "python"
    }
  },
  "cells": [
    {
      "cell_type": "code",
      "execution_count": 1,
      "metadata": {
        "id": "rwWWVLJ4TpeU"
      },
      "outputs": [],
      "source": [
        "import pandas as pd\n",
        "from sklearn.model_selection import train_test_split\n",
        "import numpy as np\n",
        "import seaborn as sns\n",
        "from sklearn.preprocessing import MinMaxScaler\n",
        "from sklearn.linear_model import LinearRegression\n",
        "from sklearn.metrics import mean_squared_error\n",
        "import matplotlib.pyplot as plt\n",
        "from sklearn.neighbors import KNeighborsRegressor\n",
        "\n",
        "SEED = 20\n",
        "np.random.seed(SEED)"
      ]
    },
    {
      "cell_type": "code",
      "source": [
        "df = pd.read_csv('/content/aluguel.csv', sep=';')"
      ],
      "metadata": {
        "id": "gWp-lAxeT4pm"
      },
      "execution_count": 2,
      "outputs": []
    },
    {
      "cell_type": "code",
      "source": [
        "df"
      ],
      "metadata": {
        "colab": {
          "base_uri": "https://localhost:8080/",
          "height": 424
        },
        "id": "xmEBzMFiT7jN",
        "outputId": "3feba36e-c5b4-4a4f-ba18-3067f63d4025"
      },
      "execution_count": 3,
      "outputs": [
        {
          "output_type": "execute_result",
          "data": {
            "text/plain": [
              "               cidade  area  quartos  banheiros  vagas_garagem  andar  \\\n",
              "0           São Paulo    70        2          1              1      7   \n",
              "1           São Paulo   320        4          4              0     20   \n",
              "2        Porto Alegre    80        1          1              1      6   \n",
              "3        Porto Alegre    51        2          1              0      2   \n",
              "4           São Paulo    25        1          1              0      1   \n",
              "...               ...   ...      ...        ...            ...    ...   \n",
              "10680    Porto Alegre    63        2          1              1      5   \n",
              "10681       São Paulo   285        4          4              4     17   \n",
              "10682  Rio de Janeiro    70        3          3              0      8   \n",
              "10683  Rio de Janeiro   120        2          2              2      8   \n",
              "10684       São Paulo    80        2          1              0      0   \n",
              "\n",
              "       aceita_animal  mobiliaria  valor_condominio  valor_aluguel  valor_iptu  \\\n",
              "0                  1           1              2065           3300         211   \n",
              "1                  1           0              1200           4960        1750   \n",
              "2                  1           0              1000           2800           0   \n",
              "3                  1           0               270           1112          22   \n",
              "4                  0           0                 0            800          25   \n",
              "...              ...         ...               ...            ...         ...   \n",
              "10680              0           1               402           1478          24   \n",
              "10681              1           0              3100          15000         973   \n",
              "10682              0           1               980           6000         332   \n",
              "10683              1           1              1585          12000         279   \n",
              "10684              1           0                 0           1400         165   \n",
              "\n",
              "       valor_seguro  valor_total  \n",
              "0                42         5618  \n",
              "1                63         7973  \n",
              "2                41         3841  \n",
              "3                17         1421  \n",
              "4                11          836  \n",
              "...             ...          ...  \n",
              "10680            22         1926  \n",
              "10681           191        19260  \n",
              "10682            78         7390  \n",
              "10683           155        14020  \n",
              "10684            22         1587  \n",
              "\n",
              "[10685 rows x 13 columns]"
            ],
            "text/html": [
              "\n",
              "  <div id=\"df-71adbd33-89d1-443d-9c6e-39c6edcd46e6\" class=\"colab-df-container\">\n",
              "    <div>\n",
              "<style scoped>\n",
              "    .dataframe tbody tr th:only-of-type {\n",
              "        vertical-align: middle;\n",
              "    }\n",
              "\n",
              "    .dataframe tbody tr th {\n",
              "        vertical-align: top;\n",
              "    }\n",
              "\n",
              "    .dataframe thead th {\n",
              "        text-align: right;\n",
              "    }\n",
              "</style>\n",
              "<table border=\"1\" class=\"dataframe\">\n",
              "  <thead>\n",
              "    <tr style=\"text-align: right;\">\n",
              "      <th></th>\n",
              "      <th>cidade</th>\n",
              "      <th>area</th>\n",
              "      <th>quartos</th>\n",
              "      <th>banheiros</th>\n",
              "      <th>vagas_garagem</th>\n",
              "      <th>andar</th>\n",
              "      <th>aceita_animal</th>\n",
              "      <th>mobiliaria</th>\n",
              "      <th>valor_condominio</th>\n",
              "      <th>valor_aluguel</th>\n",
              "      <th>valor_iptu</th>\n",
              "      <th>valor_seguro</th>\n",
              "      <th>valor_total</th>\n",
              "    </tr>\n",
              "  </thead>\n",
              "  <tbody>\n",
              "    <tr>\n",
              "      <th>0</th>\n",
              "      <td>São Paulo</td>\n",
              "      <td>70</td>\n",
              "      <td>2</td>\n",
              "      <td>1</td>\n",
              "      <td>1</td>\n",
              "      <td>7</td>\n",
              "      <td>1</td>\n",
              "      <td>1</td>\n",
              "      <td>2065</td>\n",
              "      <td>3300</td>\n",
              "      <td>211</td>\n",
              "      <td>42</td>\n",
              "      <td>5618</td>\n",
              "    </tr>\n",
              "    <tr>\n",
              "      <th>1</th>\n",
              "      <td>São Paulo</td>\n",
              "      <td>320</td>\n",
              "      <td>4</td>\n",
              "      <td>4</td>\n",
              "      <td>0</td>\n",
              "      <td>20</td>\n",
              "      <td>1</td>\n",
              "      <td>0</td>\n",
              "      <td>1200</td>\n",
              "      <td>4960</td>\n",
              "      <td>1750</td>\n",
              "      <td>63</td>\n",
              "      <td>7973</td>\n",
              "    </tr>\n",
              "    <tr>\n",
              "      <th>2</th>\n",
              "      <td>Porto Alegre</td>\n",
              "      <td>80</td>\n",
              "      <td>1</td>\n",
              "      <td>1</td>\n",
              "      <td>1</td>\n",
              "      <td>6</td>\n",
              "      <td>1</td>\n",
              "      <td>0</td>\n",
              "      <td>1000</td>\n",
              "      <td>2800</td>\n",
              "      <td>0</td>\n",
              "      <td>41</td>\n",
              "      <td>3841</td>\n",
              "    </tr>\n",
              "    <tr>\n",
              "      <th>3</th>\n",
              "      <td>Porto Alegre</td>\n",
              "      <td>51</td>\n",
              "      <td>2</td>\n",
              "      <td>1</td>\n",
              "      <td>0</td>\n",
              "      <td>2</td>\n",
              "      <td>1</td>\n",
              "      <td>0</td>\n",
              "      <td>270</td>\n",
              "      <td>1112</td>\n",
              "      <td>22</td>\n",
              "      <td>17</td>\n",
              "      <td>1421</td>\n",
              "    </tr>\n",
              "    <tr>\n",
              "      <th>4</th>\n",
              "      <td>São Paulo</td>\n",
              "      <td>25</td>\n",
              "      <td>1</td>\n",
              "      <td>1</td>\n",
              "      <td>0</td>\n",
              "      <td>1</td>\n",
              "      <td>0</td>\n",
              "      <td>0</td>\n",
              "      <td>0</td>\n",
              "      <td>800</td>\n",
              "      <td>25</td>\n",
              "      <td>11</td>\n",
              "      <td>836</td>\n",
              "    </tr>\n",
              "    <tr>\n",
              "      <th>...</th>\n",
              "      <td>...</td>\n",
              "      <td>...</td>\n",
              "      <td>...</td>\n",
              "      <td>...</td>\n",
              "      <td>...</td>\n",
              "      <td>...</td>\n",
              "      <td>...</td>\n",
              "      <td>...</td>\n",
              "      <td>...</td>\n",
              "      <td>...</td>\n",
              "      <td>...</td>\n",
              "      <td>...</td>\n",
              "      <td>...</td>\n",
              "    </tr>\n",
              "    <tr>\n",
              "      <th>10680</th>\n",
              "      <td>Porto Alegre</td>\n",
              "      <td>63</td>\n",
              "      <td>2</td>\n",
              "      <td>1</td>\n",
              "      <td>1</td>\n",
              "      <td>5</td>\n",
              "      <td>0</td>\n",
              "      <td>1</td>\n",
              "      <td>402</td>\n",
              "      <td>1478</td>\n",
              "      <td>24</td>\n",
              "      <td>22</td>\n",
              "      <td>1926</td>\n",
              "    </tr>\n",
              "    <tr>\n",
              "      <th>10681</th>\n",
              "      <td>São Paulo</td>\n",
              "      <td>285</td>\n",
              "      <td>4</td>\n",
              "      <td>4</td>\n",
              "      <td>4</td>\n",
              "      <td>17</td>\n",
              "      <td>1</td>\n",
              "      <td>0</td>\n",
              "      <td>3100</td>\n",
              "      <td>15000</td>\n",
              "      <td>973</td>\n",
              "      <td>191</td>\n",
              "      <td>19260</td>\n",
              "    </tr>\n",
              "    <tr>\n",
              "      <th>10682</th>\n",
              "      <td>Rio de Janeiro</td>\n",
              "      <td>70</td>\n",
              "      <td>3</td>\n",
              "      <td>3</td>\n",
              "      <td>0</td>\n",
              "      <td>8</td>\n",
              "      <td>0</td>\n",
              "      <td>1</td>\n",
              "      <td>980</td>\n",
              "      <td>6000</td>\n",
              "      <td>332</td>\n",
              "      <td>78</td>\n",
              "      <td>7390</td>\n",
              "    </tr>\n",
              "    <tr>\n",
              "      <th>10683</th>\n",
              "      <td>Rio de Janeiro</td>\n",
              "      <td>120</td>\n",
              "      <td>2</td>\n",
              "      <td>2</td>\n",
              "      <td>2</td>\n",
              "      <td>8</td>\n",
              "      <td>1</td>\n",
              "      <td>1</td>\n",
              "      <td>1585</td>\n",
              "      <td>12000</td>\n",
              "      <td>279</td>\n",
              "      <td>155</td>\n",
              "      <td>14020</td>\n",
              "    </tr>\n",
              "    <tr>\n",
              "      <th>10684</th>\n",
              "      <td>São Paulo</td>\n",
              "      <td>80</td>\n",
              "      <td>2</td>\n",
              "      <td>1</td>\n",
              "      <td>0</td>\n",
              "      <td>0</td>\n",
              "      <td>1</td>\n",
              "      <td>0</td>\n",
              "      <td>0</td>\n",
              "      <td>1400</td>\n",
              "      <td>165</td>\n",
              "      <td>22</td>\n",
              "      <td>1587</td>\n",
              "    </tr>\n",
              "  </tbody>\n",
              "</table>\n",
              "<p>10685 rows × 13 columns</p>\n",
              "</div>\n",
              "    <div class=\"colab-df-buttons\">\n",
              "\n",
              "  <div class=\"colab-df-container\">\n",
              "    <button class=\"colab-df-convert\" onclick=\"convertToInteractive('df-71adbd33-89d1-443d-9c6e-39c6edcd46e6')\"\n",
              "            title=\"Convert this dataframe to an interactive table.\"\n",
              "            style=\"display:none;\">\n",
              "\n",
              "  <svg xmlns=\"http://www.w3.org/2000/svg\" height=\"24px\" viewBox=\"0 -960 960 960\">\n",
              "    <path d=\"M120-120v-720h720v720H120Zm60-500h600v-160H180v160Zm220 220h160v-160H400v160Zm0 220h160v-160H400v160ZM180-400h160v-160H180v160Zm440 0h160v-160H620v160ZM180-180h160v-160H180v160Zm440 0h160v-160H620v160Z\"/>\n",
              "  </svg>\n",
              "    </button>\n",
              "\n",
              "  <style>\n",
              "    .colab-df-container {\n",
              "      display:flex;\n",
              "      gap: 12px;\n",
              "    }\n",
              "\n",
              "    .colab-df-convert {\n",
              "      background-color: #E8F0FE;\n",
              "      border: none;\n",
              "      border-radius: 50%;\n",
              "      cursor: pointer;\n",
              "      display: none;\n",
              "      fill: #1967D2;\n",
              "      height: 32px;\n",
              "      padding: 0 0 0 0;\n",
              "      width: 32px;\n",
              "    }\n",
              "\n",
              "    .colab-df-convert:hover {\n",
              "      background-color: #E2EBFA;\n",
              "      box-shadow: 0px 1px 2px rgba(60, 64, 67, 0.3), 0px 1px 3px 1px rgba(60, 64, 67, 0.15);\n",
              "      fill: #174EA6;\n",
              "    }\n",
              "\n",
              "    .colab-df-buttons div {\n",
              "      margin-bottom: 4px;\n",
              "    }\n",
              "\n",
              "    [theme=dark] .colab-df-convert {\n",
              "      background-color: #3B4455;\n",
              "      fill: #D2E3FC;\n",
              "    }\n",
              "\n",
              "    [theme=dark] .colab-df-convert:hover {\n",
              "      background-color: #434B5C;\n",
              "      box-shadow: 0px 1px 3px 1px rgba(0, 0, 0, 0.15);\n",
              "      filter: drop-shadow(0px 1px 2px rgba(0, 0, 0, 0.3));\n",
              "      fill: #FFFFFF;\n",
              "    }\n",
              "  </style>\n",
              "\n",
              "    <script>\n",
              "      const buttonEl =\n",
              "        document.querySelector('#df-71adbd33-89d1-443d-9c6e-39c6edcd46e6 button.colab-df-convert');\n",
              "      buttonEl.style.display =\n",
              "        google.colab.kernel.accessAllowed ? 'block' : 'none';\n",
              "\n",
              "      async function convertToInteractive(key) {\n",
              "        const element = document.querySelector('#df-71adbd33-89d1-443d-9c6e-39c6edcd46e6');\n",
              "        const dataTable =\n",
              "          await google.colab.kernel.invokeFunction('convertToInteractive',\n",
              "                                                    [key], {});\n",
              "        if (!dataTable) return;\n",
              "\n",
              "        const docLinkHtml = 'Like what you see? Visit the ' +\n",
              "          '<a target=\"_blank\" href=https://colab.research.google.com/notebooks/data_table.ipynb>data table notebook</a>'\n",
              "          + ' to learn more about interactive tables.';\n",
              "        element.innerHTML = '';\n",
              "        dataTable['output_type'] = 'display_data';\n",
              "        await google.colab.output.renderOutput(dataTable, element);\n",
              "        const docLink = document.createElement('div');\n",
              "        docLink.innerHTML = docLinkHtml;\n",
              "        element.appendChild(docLink);\n",
              "      }\n",
              "    </script>\n",
              "  </div>\n",
              "\n",
              "\n",
              "<div id=\"df-c533c380-2b05-45e5-80dc-970427536545\">\n",
              "  <button class=\"colab-df-quickchart\" onclick=\"quickchart('df-c533c380-2b05-45e5-80dc-970427536545')\"\n",
              "            title=\"Suggest charts\"\n",
              "            style=\"display:none;\">\n",
              "\n",
              "<svg xmlns=\"http://www.w3.org/2000/svg\" height=\"24px\"viewBox=\"0 0 24 24\"\n",
              "     width=\"24px\">\n",
              "    <g>\n",
              "        <path d=\"M19 3H5c-1.1 0-2 .9-2 2v14c0 1.1.9 2 2 2h14c1.1 0 2-.9 2-2V5c0-1.1-.9-2-2-2zM9 17H7v-7h2v7zm4 0h-2V7h2v10zm4 0h-2v-4h2v4z\"/>\n",
              "    </g>\n",
              "</svg>\n",
              "  </button>\n",
              "\n",
              "<style>\n",
              "  .colab-df-quickchart {\n",
              "      --bg-color: #E8F0FE;\n",
              "      --fill-color: #1967D2;\n",
              "      --hover-bg-color: #E2EBFA;\n",
              "      --hover-fill-color: #174EA6;\n",
              "      --disabled-fill-color: #AAA;\n",
              "      --disabled-bg-color: #DDD;\n",
              "  }\n",
              "\n",
              "  [theme=dark] .colab-df-quickchart {\n",
              "      --bg-color: #3B4455;\n",
              "      --fill-color: #D2E3FC;\n",
              "      --hover-bg-color: #434B5C;\n",
              "      --hover-fill-color: #FFFFFF;\n",
              "      --disabled-bg-color: #3B4455;\n",
              "      --disabled-fill-color: #666;\n",
              "  }\n",
              "\n",
              "  .colab-df-quickchart {\n",
              "    background-color: var(--bg-color);\n",
              "    border: none;\n",
              "    border-radius: 50%;\n",
              "    cursor: pointer;\n",
              "    display: none;\n",
              "    fill: var(--fill-color);\n",
              "    height: 32px;\n",
              "    padding: 0;\n",
              "    width: 32px;\n",
              "  }\n",
              "\n",
              "  .colab-df-quickchart:hover {\n",
              "    background-color: var(--hover-bg-color);\n",
              "    box-shadow: 0 1px 2px rgba(60, 64, 67, 0.3), 0 1px 3px 1px rgba(60, 64, 67, 0.15);\n",
              "    fill: var(--button-hover-fill-color);\n",
              "  }\n",
              "\n",
              "  .colab-df-quickchart-complete:disabled,\n",
              "  .colab-df-quickchart-complete:disabled:hover {\n",
              "    background-color: var(--disabled-bg-color);\n",
              "    fill: var(--disabled-fill-color);\n",
              "    box-shadow: none;\n",
              "  }\n",
              "\n",
              "  .colab-df-spinner {\n",
              "    border: 2px solid var(--fill-color);\n",
              "    border-color: transparent;\n",
              "    border-bottom-color: var(--fill-color);\n",
              "    animation:\n",
              "      spin 1s steps(1) infinite;\n",
              "  }\n",
              "\n",
              "  @keyframes spin {\n",
              "    0% {\n",
              "      border-color: transparent;\n",
              "      border-bottom-color: var(--fill-color);\n",
              "      border-left-color: var(--fill-color);\n",
              "    }\n",
              "    20% {\n",
              "      border-color: transparent;\n",
              "      border-left-color: var(--fill-color);\n",
              "      border-top-color: var(--fill-color);\n",
              "    }\n",
              "    30% {\n",
              "      border-color: transparent;\n",
              "      border-left-color: var(--fill-color);\n",
              "      border-top-color: var(--fill-color);\n",
              "      border-right-color: var(--fill-color);\n",
              "    }\n",
              "    40% {\n",
              "      border-color: transparent;\n",
              "      border-right-color: var(--fill-color);\n",
              "      border-top-color: var(--fill-color);\n",
              "    }\n",
              "    60% {\n",
              "      border-color: transparent;\n",
              "      border-right-color: var(--fill-color);\n",
              "    }\n",
              "    80% {\n",
              "      border-color: transparent;\n",
              "      border-right-color: var(--fill-color);\n",
              "      border-bottom-color: var(--fill-color);\n",
              "    }\n",
              "    90% {\n",
              "      border-color: transparent;\n",
              "      border-bottom-color: var(--fill-color);\n",
              "    }\n",
              "  }\n",
              "</style>\n",
              "\n",
              "  <script>\n",
              "    async function quickchart(key) {\n",
              "      const quickchartButtonEl =\n",
              "        document.querySelector('#' + key + ' button');\n",
              "      quickchartButtonEl.disabled = true;  // To prevent multiple clicks.\n",
              "      quickchartButtonEl.classList.add('colab-df-spinner');\n",
              "      try {\n",
              "        const charts = await google.colab.kernel.invokeFunction(\n",
              "            'suggestCharts', [key], {});\n",
              "      } catch (error) {\n",
              "        console.error('Error during call to suggestCharts:', error);\n",
              "      }\n",
              "      quickchartButtonEl.classList.remove('colab-df-spinner');\n",
              "      quickchartButtonEl.classList.add('colab-df-quickchart-complete');\n",
              "    }\n",
              "    (() => {\n",
              "      let quickchartButtonEl =\n",
              "        document.querySelector('#df-c533c380-2b05-45e5-80dc-970427536545 button');\n",
              "      quickchartButtonEl.style.display =\n",
              "        google.colab.kernel.accessAllowed ? 'block' : 'none';\n",
              "    })();\n",
              "  </script>\n",
              "</div>\n",
              "\n",
              "  <div id=\"id_0baaa1ef-8baf-4ec8-8fba-3bc1a3b196db\">\n",
              "    <style>\n",
              "      .colab-df-generate {\n",
              "        background-color: #E8F0FE;\n",
              "        border: none;\n",
              "        border-radius: 50%;\n",
              "        cursor: pointer;\n",
              "        display: none;\n",
              "        fill: #1967D2;\n",
              "        height: 32px;\n",
              "        padding: 0 0 0 0;\n",
              "        width: 32px;\n",
              "      }\n",
              "\n",
              "      .colab-df-generate:hover {\n",
              "        background-color: #E2EBFA;\n",
              "        box-shadow: 0px 1px 2px rgba(60, 64, 67, 0.3), 0px 1px 3px 1px rgba(60, 64, 67, 0.15);\n",
              "        fill: #174EA6;\n",
              "      }\n",
              "\n",
              "      [theme=dark] .colab-df-generate {\n",
              "        background-color: #3B4455;\n",
              "        fill: #D2E3FC;\n",
              "      }\n",
              "\n",
              "      [theme=dark] .colab-df-generate:hover {\n",
              "        background-color: #434B5C;\n",
              "        box-shadow: 0px 1px 3px 1px rgba(0, 0, 0, 0.15);\n",
              "        filter: drop-shadow(0px 1px 2px rgba(0, 0, 0, 0.3));\n",
              "        fill: #FFFFFF;\n",
              "      }\n",
              "    </style>\n",
              "    <button class=\"colab-df-generate\" onclick=\"generateWithVariable('df')\"\n",
              "            title=\"Generate code using this dataframe.\"\n",
              "            style=\"display:none;\">\n",
              "\n",
              "  <svg xmlns=\"http://www.w3.org/2000/svg\" height=\"24px\"viewBox=\"0 0 24 24\"\n",
              "       width=\"24px\">\n",
              "    <path d=\"M7,19H8.4L18.45,9,17,7.55,7,17.6ZM5,21V16.75L18.45,3.32a2,2,0,0,1,2.83,0l1.4,1.43a1.91,1.91,0,0,1,.58,1.4,1.91,1.91,0,0,1-.58,1.4L9.25,21ZM18.45,9,17,7.55Zm-12,3A5.31,5.31,0,0,0,4.9,8.1,5.31,5.31,0,0,0,1,6.5,5.31,5.31,0,0,0,4.9,4.9,5.31,5.31,0,0,0,6.5,1,5.31,5.31,0,0,0,8.1,4.9,5.31,5.31,0,0,0,12,6.5,5.46,5.46,0,0,0,6.5,12Z\"/>\n",
              "  </svg>\n",
              "    </button>\n",
              "    <script>\n",
              "      (() => {\n",
              "      const buttonEl =\n",
              "        document.querySelector('#id_0baaa1ef-8baf-4ec8-8fba-3bc1a3b196db button.colab-df-generate');\n",
              "      buttonEl.style.display =\n",
              "        google.colab.kernel.accessAllowed ? 'block' : 'none';\n",
              "\n",
              "      buttonEl.onclick = () => {\n",
              "        google.colab.notebook.generateWithVariable('df');\n",
              "      }\n",
              "      })();\n",
              "    </script>\n",
              "  </div>\n",
              "\n",
              "    </div>\n",
              "  </div>\n"
            ],
            "application/vnd.google.colaboratory.intrinsic+json": {
              "type": "dataframe",
              "variable_name": "df",
              "summary": "{\n  \"name\": \"df\",\n  \"rows\": 10685,\n  \"fields\": [\n    {\n      \"column\": \"cidade\",\n      \"properties\": {\n        \"dtype\": \"category\",\n        \"num_unique_values\": 5,\n        \"samples\": [\n          \"Porto Alegre\",\n          \"Belo Horizonte\",\n          \"Rio de Janeiro\"\n        ],\n        \"semantic_type\": \"\",\n        \"description\": \"\"\n      }\n    },\n    {\n      \"column\": \"area\",\n      \"properties\": {\n        \"dtype\": \"number\",\n        \"std\": 537,\n        \"min\": 11,\n        \"max\": 46335,\n        \"num_unique_values\": 517,\n        \"samples\": [\n          255,\n          503,\n          343\n        ],\n        \"semantic_type\": \"\",\n        \"description\": \"\"\n      }\n    },\n    {\n      \"column\": \"quartos\",\n      \"properties\": {\n        \"dtype\": \"number\",\n        \"std\": 1,\n        \"min\": 1,\n        \"max\": 13,\n        \"num_unique_values\": 11,\n        \"samples\": [\n          5,\n          2,\n          13\n        ],\n        \"semantic_type\": \"\",\n        \"description\": \"\"\n      }\n    },\n    {\n      \"column\": \"banheiros\",\n      \"properties\": {\n        \"dtype\": \"number\",\n        \"std\": 1,\n        \"min\": 1,\n        \"max\": 10,\n        \"num_unique_values\": 10,\n        \"samples\": [\n          8,\n          4,\n          5\n        ],\n        \"semantic_type\": \"\",\n        \"description\": \"\"\n      }\n    },\n    {\n      \"column\": \"vagas_garagem\",\n      \"properties\": {\n        \"dtype\": \"number\",\n        \"std\": 1,\n        \"min\": 0,\n        \"max\": 12,\n        \"num_unique_values\": 11,\n        \"samples\": [\n          6,\n          1,\n          10\n        ],\n        \"semantic_type\": \"\",\n        \"description\": \"\"\n      }\n    },\n    {\n      \"column\": \"andar\",\n      \"properties\": {\n        \"dtype\": \"number\",\n        \"std\": 5,\n        \"min\": 0,\n        \"max\": 51,\n        \"num_unique_values\": 35,\n        \"samples\": [\n          23,\n          17,\n          22\n        ],\n        \"semantic_type\": \"\",\n        \"description\": \"\"\n      }\n    },\n    {\n      \"column\": \"aceita_animal\",\n      \"properties\": {\n        \"dtype\": \"number\",\n        \"std\": 0,\n        \"min\": 0,\n        \"max\": 1,\n        \"num_unique_values\": 2,\n        \"samples\": [\n          0,\n          1\n        ],\n        \"semantic_type\": \"\",\n        \"description\": \"\"\n      }\n    },\n    {\n      \"column\": \"mobiliaria\",\n      \"properties\": {\n        \"dtype\": \"number\",\n        \"std\": 0,\n        \"min\": 0,\n        \"max\": 1,\n        \"num_unique_values\": 2,\n        \"samples\": [\n          0,\n          1\n        ],\n        \"semantic_type\": \"\",\n        \"description\": \"\"\n      }\n    },\n    {\n      \"column\": \"valor_condominio\",\n      \"properties\": {\n        \"dtype\": \"number\",\n        \"std\": 1166,\n        \"min\": 0,\n        \"max\": 32000,\n        \"num_unique_values\": 1675,\n        \"samples\": [\n          2128,\n          8362\n        ],\n        \"semantic_type\": \"\",\n        \"description\": \"\"\n      }\n    },\n    {\n      \"column\": \"valor_aluguel\",\n      \"properties\": {\n        \"dtype\": \"number\",\n        \"std\": 3381,\n        \"min\": 450,\n        \"max\": 30000,\n        \"num_unique_values\": 1194,\n        \"samples\": [\n          19000,\n          9180\n        ],\n        \"semantic_type\": \"\",\n        \"description\": \"\"\n      }\n    },\n    {\n      \"column\": \"valor_iptu\",\n      \"properties\": {\n        \"dtype\": \"number\",\n        \"std\": 677,\n        \"min\": 0,\n        \"max\": 28120,\n        \"num_unique_values\": 1241,\n        \"samples\": [\n          1006,\n          1167\n        ],\n        \"semantic_type\": \"\",\n        \"description\": \"\"\n      }\n    },\n    {\n      \"column\": \"valor_seguro\",\n      \"properties\": {\n        \"dtype\": \"number\",\n        \"std\": 47,\n        \"min\": 3,\n        \"max\": 451,\n        \"num_unique_values\": 215,\n        \"samples\": [\n          184,\n          3\n        ],\n        \"semantic_type\": \"\",\n        \"description\": \"\"\n      }\n    },\n    {\n      \"column\": \"valor_total\",\n      \"properties\": {\n        \"dtype\": \"number\",\n        \"std\": 4473,\n        \"min\": 499,\n        \"max\": 32750,\n        \"num_unique_values\": 5745,\n        \"samples\": [\n          1049,\n          4297\n        ],\n        \"semantic_type\": \"\",\n        \"description\": \"\"\n      }\n    }\n  ]\n}"
            }
          },
          "metadata": {},
          "execution_count": 3
        }
      ]
    },
    {
      "cell_type": "markdown",
      "source": [
        "# **Pré-processamento**\n"
      ],
      "metadata": {
        "id": "RUExk287r7P9"
      }
    },
    {
      "cell_type": "markdown",
      "source": [
        "### Checando as informações pra fazermos o pré processamento. Podemos ver que não temos nenhum valor NULL em nossa base de dados\n"
      ],
      "metadata": {
        "id": "XP15tQKAWIOi"
      }
    },
    {
      "cell_type": "code",
      "source": [
        "df.info()"
      ],
      "metadata": {
        "colab": {
          "base_uri": "https://localhost:8080/"
        },
        "id": "TBx0RKDBUHSO",
        "outputId": "657ce274-8445-4b24-881a-470842076fb5"
      },
      "execution_count": 4,
      "outputs": [
        {
          "output_type": "stream",
          "name": "stdout",
          "text": [
            "<class 'pandas.core.frame.DataFrame'>\n",
            "RangeIndex: 10685 entries, 0 to 10684\n",
            "Data columns (total 13 columns):\n",
            " #   Column            Non-Null Count  Dtype \n",
            "---  ------            --------------  ----- \n",
            " 0   cidade            10685 non-null  object\n",
            " 1   area              10685 non-null  int64 \n",
            " 2   quartos           10685 non-null  int64 \n",
            " 3   banheiros         10685 non-null  int64 \n",
            " 4   vagas_garagem     10685 non-null  int64 \n",
            " 5   andar             10685 non-null  int64 \n",
            " 6   aceita_animal     10685 non-null  int64 \n",
            " 7   mobiliaria        10685 non-null  int64 \n",
            " 8   valor_condominio  10685 non-null  int64 \n",
            " 9   valor_aluguel     10685 non-null  int64 \n",
            " 10  valor_iptu        10685 non-null  int64 \n",
            " 11  valor_seguro      10685 non-null  int64 \n",
            " 12  valor_total       10685 non-null  int64 \n",
            "dtypes: int64(12), object(1)\n",
            "memory usage: 1.1+ MB\n"
          ]
        }
      ]
    },
    {
      "cell_type": "markdown",
      "source": [
        "### Testaremos um modelo com a variável \"area\" como entrada e o \"valor_aluguel\" como alvo. Podemos ver que há uma discrepância muito grande entre valor mínimo e máximo na \"area\" e no \"valor aluguel\", que serão nossos alvos para treino, então irei normalizar esses dados mais a frente para podermos ter um melhor desempenho do nosso modelo"
      ],
      "metadata": {
        "id": "qR5zr_fwWQIK"
      }
    },
    {
      "cell_type": "code",
      "source": [
        "df.describe()"
      ],
      "metadata": {
        "colab": {
          "base_uri": "https://localhost:8080/",
          "height": 0
        },
        "id": "tuOgQ0IgUVZu",
        "outputId": "0c188936-311c-4621-f5c7-90d70dbffc2f"
      },
      "execution_count": 5,
      "outputs": [
        {
          "output_type": "execute_result",
          "data": {
            "text/plain": [
              "               area      quartos     banheiros  vagas_garagem         andar  \\\n",
              "count  10685.000000  10685.00000  10685.000000   10685.000000  10685.000000   \n",
              "mean     149.155452      2.50613      2.235751       1.608797      5.043332   \n",
              "std      537.159483      1.17086      1.406287       1.588426      5.358497   \n",
              "min       11.000000      1.00000      1.000000       0.000000      0.000000   \n",
              "25%       56.000000      2.00000      1.000000       0.000000      1.000000   \n",
              "50%       90.000000      2.00000      2.000000       1.000000      3.000000   \n",
              "75%      182.000000      3.00000      3.000000       2.000000      8.000000   \n",
              "max    46335.000000     13.00000     10.000000      12.000000     51.000000   \n",
              "\n",
              "       aceita_animal    mobiliaria  valor_condominio  valor_aluguel  \\\n",
              "count   10685.000000  10685.000000      10685.000000   10685.000000   \n",
              "mean        0.777913      0.243706        918.745905    3890.416004   \n",
              "std         0.415669      0.429338       1166.977706    3381.827918   \n",
              "min         0.000000      0.000000          0.000000     450.000000   \n",
              "25%         1.000000      0.000000        170.000000    1530.000000   \n",
              "50%         1.000000      0.000000        560.000000    2650.000000   \n",
              "75%         1.000000      0.000000       1235.000000    5000.000000   \n",
              "max         1.000000      1.000000      32000.000000   30000.000000   \n",
              "\n",
              "         valor_iptu  valor_seguro   valor_total  \n",
              "count  10685.000000  10685.000000  10685.000000  \n",
              "mean     335.563032     53.218811   5198.132616  \n",
              "std      677.795945     47.350550   4473.376271  \n",
              "min        0.000000      3.000000    499.000000  \n",
              "25%       38.000000     21.000000   2061.000000  \n",
              "50%      125.000000     36.000000   3578.000000  \n",
              "75%      375.000000     68.000000   6758.000000  \n",
              "max    28120.000000    451.000000  32750.000000  "
            ],
            "text/html": [
              "\n",
              "  <div id=\"df-401ff592-bbee-4610-9b3e-456a71527c9a\" class=\"colab-df-container\">\n",
              "    <div>\n",
              "<style scoped>\n",
              "    .dataframe tbody tr th:only-of-type {\n",
              "        vertical-align: middle;\n",
              "    }\n",
              "\n",
              "    .dataframe tbody tr th {\n",
              "        vertical-align: top;\n",
              "    }\n",
              "\n",
              "    .dataframe thead th {\n",
              "        text-align: right;\n",
              "    }\n",
              "</style>\n",
              "<table border=\"1\" class=\"dataframe\">\n",
              "  <thead>\n",
              "    <tr style=\"text-align: right;\">\n",
              "      <th></th>\n",
              "      <th>area</th>\n",
              "      <th>quartos</th>\n",
              "      <th>banheiros</th>\n",
              "      <th>vagas_garagem</th>\n",
              "      <th>andar</th>\n",
              "      <th>aceita_animal</th>\n",
              "      <th>mobiliaria</th>\n",
              "      <th>valor_condominio</th>\n",
              "      <th>valor_aluguel</th>\n",
              "      <th>valor_iptu</th>\n",
              "      <th>valor_seguro</th>\n",
              "      <th>valor_total</th>\n",
              "    </tr>\n",
              "  </thead>\n",
              "  <tbody>\n",
              "    <tr>\n",
              "      <th>count</th>\n",
              "      <td>10685.000000</td>\n",
              "      <td>10685.00000</td>\n",
              "      <td>10685.000000</td>\n",
              "      <td>10685.000000</td>\n",
              "      <td>10685.000000</td>\n",
              "      <td>10685.000000</td>\n",
              "      <td>10685.000000</td>\n",
              "      <td>10685.000000</td>\n",
              "      <td>10685.000000</td>\n",
              "      <td>10685.000000</td>\n",
              "      <td>10685.000000</td>\n",
              "      <td>10685.000000</td>\n",
              "    </tr>\n",
              "    <tr>\n",
              "      <th>mean</th>\n",
              "      <td>149.155452</td>\n",
              "      <td>2.50613</td>\n",
              "      <td>2.235751</td>\n",
              "      <td>1.608797</td>\n",
              "      <td>5.043332</td>\n",
              "      <td>0.777913</td>\n",
              "      <td>0.243706</td>\n",
              "      <td>918.745905</td>\n",
              "      <td>3890.416004</td>\n",
              "      <td>335.563032</td>\n",
              "      <td>53.218811</td>\n",
              "      <td>5198.132616</td>\n",
              "    </tr>\n",
              "    <tr>\n",
              "      <th>std</th>\n",
              "      <td>537.159483</td>\n",
              "      <td>1.17086</td>\n",
              "      <td>1.406287</td>\n",
              "      <td>1.588426</td>\n",
              "      <td>5.358497</td>\n",
              "      <td>0.415669</td>\n",
              "      <td>0.429338</td>\n",
              "      <td>1166.977706</td>\n",
              "      <td>3381.827918</td>\n",
              "      <td>677.795945</td>\n",
              "      <td>47.350550</td>\n",
              "      <td>4473.376271</td>\n",
              "    </tr>\n",
              "    <tr>\n",
              "      <th>min</th>\n",
              "      <td>11.000000</td>\n",
              "      <td>1.00000</td>\n",
              "      <td>1.000000</td>\n",
              "      <td>0.000000</td>\n",
              "      <td>0.000000</td>\n",
              "      <td>0.000000</td>\n",
              "      <td>0.000000</td>\n",
              "      <td>0.000000</td>\n",
              "      <td>450.000000</td>\n",
              "      <td>0.000000</td>\n",
              "      <td>3.000000</td>\n",
              "      <td>499.000000</td>\n",
              "    </tr>\n",
              "    <tr>\n",
              "      <th>25%</th>\n",
              "      <td>56.000000</td>\n",
              "      <td>2.00000</td>\n",
              "      <td>1.000000</td>\n",
              "      <td>0.000000</td>\n",
              "      <td>1.000000</td>\n",
              "      <td>1.000000</td>\n",
              "      <td>0.000000</td>\n",
              "      <td>170.000000</td>\n",
              "      <td>1530.000000</td>\n",
              "      <td>38.000000</td>\n",
              "      <td>21.000000</td>\n",
              "      <td>2061.000000</td>\n",
              "    </tr>\n",
              "    <tr>\n",
              "      <th>50%</th>\n",
              "      <td>90.000000</td>\n",
              "      <td>2.00000</td>\n",
              "      <td>2.000000</td>\n",
              "      <td>1.000000</td>\n",
              "      <td>3.000000</td>\n",
              "      <td>1.000000</td>\n",
              "      <td>0.000000</td>\n",
              "      <td>560.000000</td>\n",
              "      <td>2650.000000</td>\n",
              "      <td>125.000000</td>\n",
              "      <td>36.000000</td>\n",
              "      <td>3578.000000</td>\n",
              "    </tr>\n",
              "    <tr>\n",
              "      <th>75%</th>\n",
              "      <td>182.000000</td>\n",
              "      <td>3.00000</td>\n",
              "      <td>3.000000</td>\n",
              "      <td>2.000000</td>\n",
              "      <td>8.000000</td>\n",
              "      <td>1.000000</td>\n",
              "      <td>0.000000</td>\n",
              "      <td>1235.000000</td>\n",
              "      <td>5000.000000</td>\n",
              "      <td>375.000000</td>\n",
              "      <td>68.000000</td>\n",
              "      <td>6758.000000</td>\n",
              "    </tr>\n",
              "    <tr>\n",
              "      <th>max</th>\n",
              "      <td>46335.000000</td>\n",
              "      <td>13.00000</td>\n",
              "      <td>10.000000</td>\n",
              "      <td>12.000000</td>\n",
              "      <td>51.000000</td>\n",
              "      <td>1.000000</td>\n",
              "      <td>1.000000</td>\n",
              "      <td>32000.000000</td>\n",
              "      <td>30000.000000</td>\n",
              "      <td>28120.000000</td>\n",
              "      <td>451.000000</td>\n",
              "      <td>32750.000000</td>\n",
              "    </tr>\n",
              "  </tbody>\n",
              "</table>\n",
              "</div>\n",
              "    <div class=\"colab-df-buttons\">\n",
              "\n",
              "  <div class=\"colab-df-container\">\n",
              "    <button class=\"colab-df-convert\" onclick=\"convertToInteractive('df-401ff592-bbee-4610-9b3e-456a71527c9a')\"\n",
              "            title=\"Convert this dataframe to an interactive table.\"\n",
              "            style=\"display:none;\">\n",
              "\n",
              "  <svg xmlns=\"http://www.w3.org/2000/svg\" height=\"24px\" viewBox=\"0 -960 960 960\">\n",
              "    <path d=\"M120-120v-720h720v720H120Zm60-500h600v-160H180v160Zm220 220h160v-160H400v160Zm0 220h160v-160H400v160ZM180-400h160v-160H180v160Zm440 0h160v-160H620v160ZM180-180h160v-160H180v160Zm440 0h160v-160H620v160Z\"/>\n",
              "  </svg>\n",
              "    </button>\n",
              "\n",
              "  <style>\n",
              "    .colab-df-container {\n",
              "      display:flex;\n",
              "      gap: 12px;\n",
              "    }\n",
              "\n",
              "    .colab-df-convert {\n",
              "      background-color: #E8F0FE;\n",
              "      border: none;\n",
              "      border-radius: 50%;\n",
              "      cursor: pointer;\n",
              "      display: none;\n",
              "      fill: #1967D2;\n",
              "      height: 32px;\n",
              "      padding: 0 0 0 0;\n",
              "      width: 32px;\n",
              "    }\n",
              "\n",
              "    .colab-df-convert:hover {\n",
              "      background-color: #E2EBFA;\n",
              "      box-shadow: 0px 1px 2px rgba(60, 64, 67, 0.3), 0px 1px 3px 1px rgba(60, 64, 67, 0.15);\n",
              "      fill: #174EA6;\n",
              "    }\n",
              "\n",
              "    .colab-df-buttons div {\n",
              "      margin-bottom: 4px;\n",
              "    }\n",
              "\n",
              "    [theme=dark] .colab-df-convert {\n",
              "      background-color: #3B4455;\n",
              "      fill: #D2E3FC;\n",
              "    }\n",
              "\n",
              "    [theme=dark] .colab-df-convert:hover {\n",
              "      background-color: #434B5C;\n",
              "      box-shadow: 0px 1px 3px 1px rgba(0, 0, 0, 0.15);\n",
              "      filter: drop-shadow(0px 1px 2px rgba(0, 0, 0, 0.3));\n",
              "      fill: #FFFFFF;\n",
              "    }\n",
              "  </style>\n",
              "\n",
              "    <script>\n",
              "      const buttonEl =\n",
              "        document.querySelector('#df-401ff592-bbee-4610-9b3e-456a71527c9a button.colab-df-convert');\n",
              "      buttonEl.style.display =\n",
              "        google.colab.kernel.accessAllowed ? 'block' : 'none';\n",
              "\n",
              "      async function convertToInteractive(key) {\n",
              "        const element = document.querySelector('#df-401ff592-bbee-4610-9b3e-456a71527c9a');\n",
              "        const dataTable =\n",
              "          await google.colab.kernel.invokeFunction('convertToInteractive',\n",
              "                                                    [key], {});\n",
              "        if (!dataTable) return;\n",
              "\n",
              "        const docLinkHtml = 'Like what you see? Visit the ' +\n",
              "          '<a target=\"_blank\" href=https://colab.research.google.com/notebooks/data_table.ipynb>data table notebook</a>'\n",
              "          + ' to learn more about interactive tables.';\n",
              "        element.innerHTML = '';\n",
              "        dataTable['output_type'] = 'display_data';\n",
              "        await google.colab.output.renderOutput(dataTable, element);\n",
              "        const docLink = document.createElement('div');\n",
              "        docLink.innerHTML = docLinkHtml;\n",
              "        element.appendChild(docLink);\n",
              "      }\n",
              "    </script>\n",
              "  </div>\n",
              "\n",
              "\n",
              "<div id=\"df-4ec916b2-7e88-460d-8f1c-3a626753f898\">\n",
              "  <button class=\"colab-df-quickchart\" onclick=\"quickchart('df-4ec916b2-7e88-460d-8f1c-3a626753f898')\"\n",
              "            title=\"Suggest charts\"\n",
              "            style=\"display:none;\">\n",
              "\n",
              "<svg xmlns=\"http://www.w3.org/2000/svg\" height=\"24px\"viewBox=\"0 0 24 24\"\n",
              "     width=\"24px\">\n",
              "    <g>\n",
              "        <path d=\"M19 3H5c-1.1 0-2 .9-2 2v14c0 1.1.9 2 2 2h14c1.1 0 2-.9 2-2V5c0-1.1-.9-2-2-2zM9 17H7v-7h2v7zm4 0h-2V7h2v10zm4 0h-2v-4h2v4z\"/>\n",
              "    </g>\n",
              "</svg>\n",
              "  </button>\n",
              "\n",
              "<style>\n",
              "  .colab-df-quickchart {\n",
              "      --bg-color: #E8F0FE;\n",
              "      --fill-color: #1967D2;\n",
              "      --hover-bg-color: #E2EBFA;\n",
              "      --hover-fill-color: #174EA6;\n",
              "      --disabled-fill-color: #AAA;\n",
              "      --disabled-bg-color: #DDD;\n",
              "  }\n",
              "\n",
              "  [theme=dark] .colab-df-quickchart {\n",
              "      --bg-color: #3B4455;\n",
              "      --fill-color: #D2E3FC;\n",
              "      --hover-bg-color: #434B5C;\n",
              "      --hover-fill-color: #FFFFFF;\n",
              "      --disabled-bg-color: #3B4455;\n",
              "      --disabled-fill-color: #666;\n",
              "  }\n",
              "\n",
              "  .colab-df-quickchart {\n",
              "    background-color: var(--bg-color);\n",
              "    border: none;\n",
              "    border-radius: 50%;\n",
              "    cursor: pointer;\n",
              "    display: none;\n",
              "    fill: var(--fill-color);\n",
              "    height: 32px;\n",
              "    padding: 0;\n",
              "    width: 32px;\n",
              "  }\n",
              "\n",
              "  .colab-df-quickchart:hover {\n",
              "    background-color: var(--hover-bg-color);\n",
              "    box-shadow: 0 1px 2px rgba(60, 64, 67, 0.3), 0 1px 3px 1px rgba(60, 64, 67, 0.15);\n",
              "    fill: var(--button-hover-fill-color);\n",
              "  }\n",
              "\n",
              "  .colab-df-quickchart-complete:disabled,\n",
              "  .colab-df-quickchart-complete:disabled:hover {\n",
              "    background-color: var(--disabled-bg-color);\n",
              "    fill: var(--disabled-fill-color);\n",
              "    box-shadow: none;\n",
              "  }\n",
              "\n",
              "  .colab-df-spinner {\n",
              "    border: 2px solid var(--fill-color);\n",
              "    border-color: transparent;\n",
              "    border-bottom-color: var(--fill-color);\n",
              "    animation:\n",
              "      spin 1s steps(1) infinite;\n",
              "  }\n",
              "\n",
              "  @keyframes spin {\n",
              "    0% {\n",
              "      border-color: transparent;\n",
              "      border-bottom-color: var(--fill-color);\n",
              "      border-left-color: var(--fill-color);\n",
              "    }\n",
              "    20% {\n",
              "      border-color: transparent;\n",
              "      border-left-color: var(--fill-color);\n",
              "      border-top-color: var(--fill-color);\n",
              "    }\n",
              "    30% {\n",
              "      border-color: transparent;\n",
              "      border-left-color: var(--fill-color);\n",
              "      border-top-color: var(--fill-color);\n",
              "      border-right-color: var(--fill-color);\n",
              "    }\n",
              "    40% {\n",
              "      border-color: transparent;\n",
              "      border-right-color: var(--fill-color);\n",
              "      border-top-color: var(--fill-color);\n",
              "    }\n",
              "    60% {\n",
              "      border-color: transparent;\n",
              "      border-right-color: var(--fill-color);\n",
              "    }\n",
              "    80% {\n",
              "      border-color: transparent;\n",
              "      border-right-color: var(--fill-color);\n",
              "      border-bottom-color: var(--fill-color);\n",
              "    }\n",
              "    90% {\n",
              "      border-color: transparent;\n",
              "      border-bottom-color: var(--fill-color);\n",
              "    }\n",
              "  }\n",
              "</style>\n",
              "\n",
              "  <script>\n",
              "    async function quickchart(key) {\n",
              "      const quickchartButtonEl =\n",
              "        document.querySelector('#' + key + ' button');\n",
              "      quickchartButtonEl.disabled = true;  // To prevent multiple clicks.\n",
              "      quickchartButtonEl.classList.add('colab-df-spinner');\n",
              "      try {\n",
              "        const charts = await google.colab.kernel.invokeFunction(\n",
              "            'suggestCharts', [key], {});\n",
              "      } catch (error) {\n",
              "        console.error('Error during call to suggestCharts:', error);\n",
              "      }\n",
              "      quickchartButtonEl.classList.remove('colab-df-spinner');\n",
              "      quickchartButtonEl.classList.add('colab-df-quickchart-complete');\n",
              "    }\n",
              "    (() => {\n",
              "      let quickchartButtonEl =\n",
              "        document.querySelector('#df-4ec916b2-7e88-460d-8f1c-3a626753f898 button');\n",
              "      quickchartButtonEl.style.display =\n",
              "        google.colab.kernel.accessAllowed ? 'block' : 'none';\n",
              "    })();\n",
              "  </script>\n",
              "</div>\n",
              "\n",
              "    </div>\n",
              "  </div>\n"
            ],
            "application/vnd.google.colaboratory.intrinsic+json": {
              "type": "dataframe",
              "summary": "{\n  \"name\": \"df\",\n  \"rows\": 8,\n  \"fields\": [\n    {\n      \"column\": \"area\",\n      \"properties\": {\n        \"dtype\": \"number\",\n        \"std\": 16214.188651702276,\n        \"min\": 11.0,\n        \"max\": 46335.0,\n        \"num_unique_values\": 8,\n        \"samples\": [\n          149.15545156761814,\n          90.0,\n          10685.0\n        ],\n        \"semantic_type\": \"\",\n        \"description\": \"\"\n      }\n    },\n    {\n      \"column\": \"quartos\",\n      \"properties\": {\n        \"dtype\": \"number\",\n        \"std\": 3776.4736385049578,\n        \"min\": 1.0,\n        \"max\": 10685.0,\n        \"num_unique_values\": 7,\n        \"samples\": [\n          10685.0,\n          2.5061300889096865,\n          3.0\n        ],\n        \"semantic_type\": \"\",\n        \"description\": \"\"\n      }\n    },\n    {\n      \"column\": \"banheiros\",\n      \"properties\": {\n        \"dtype\": \"number\",\n        \"std\": 3776.676553816106,\n        \"min\": 1.0,\n        \"max\": 10685.0,\n        \"num_unique_values\": 7,\n        \"samples\": [\n          10685.0,\n          2.235751052877866,\n          3.0\n        ],\n        \"semantic_type\": \"\",\n        \"description\": \"\"\n      }\n    },\n    {\n      \"column\": \"vagas_garagem\",\n      \"properties\": {\n        \"dtype\": \"number\",\n        \"std\": 3776.8008998691857,\n        \"min\": 0.0,\n        \"max\": 10685.0,\n        \"num_unique_values\": 7,\n        \"samples\": [\n          10685.0,\n          1.6087973795039776,\n          2.0\n        ],\n        \"semantic_type\": \"\",\n        \"description\": \"\"\n      }\n    },\n    {\n      \"column\": \"andar\",\n      \"properties\": {\n        \"dtype\": \"number\",\n        \"std\": 3774.0477116713305,\n        \"min\": 0.0,\n        \"max\": 10685.0,\n        \"num_unique_values\": 8,\n        \"samples\": [\n          5.043331773514272,\n          3.0,\n          10685.0\n        ],\n        \"semantic_type\": \"\",\n        \"description\": \"\"\n      }\n    },\n    {\n      \"column\": \"aceita_animal\",\n      \"properties\": {\n        \"dtype\": \"number\",\n        \"std\": 3777.4556804806925,\n        \"min\": 0.0,\n        \"max\": 10685.0,\n        \"num_unique_values\": 5,\n        \"samples\": [\n          0.7779129620963968,\n          1.0,\n          0.4156688055207809\n        ],\n        \"semantic_type\": \"\",\n        \"description\": \"\"\n      }\n    },\n    {\n      \"column\": \"mobiliaria\",\n      \"properties\": {\n        \"dtype\": \"number\",\n        \"std\": 3777.633492980123,\n        \"min\": 0.0,\n        \"max\": 10685.0,\n        \"num_unique_values\": 5,\n        \"samples\": [\n          0.24370613008890968,\n          1.0,\n          0.4293375171106027\n        ],\n        \"semantic_type\": \"\",\n        \"description\": \"\"\n      }\n    },\n    {\n      \"column\": \"valor_condominio\",\n      \"properties\": {\n        \"dtype\": \"number\",\n        \"std\": 11143.31573070611,\n        \"min\": 0.0,\n        \"max\": 32000.0,\n        \"num_unique_values\": 8,\n        \"samples\": [\n          918.745905474965,\n          560.0,\n          10685.0\n        ],\n        \"semantic_type\": \"\",\n        \"description\": \"\"\n      }\n    },\n    {\n      \"column\": \"valor_aluguel\",\n      \"properties\": {\n        \"dtype\": \"number\",\n        \"std\": 9715.75222393908,\n        \"min\": 450.0,\n        \"max\": 30000.0,\n        \"num_unique_values\": 8,\n        \"samples\": [\n          3890.416003743566,\n          2650.0,\n          10685.0\n        ],\n        \"semantic_type\": \"\",\n        \"description\": \"\"\n      }\n    },\n    {\n      \"column\": \"valor_iptu\",\n      \"properties\": {\n        \"dtype\": \"number\",\n        \"std\": 10014.65972001611,\n        \"min\": 0.0,\n        \"max\": 28120.0,\n        \"num_unique_values\": 8,\n        \"samples\": [\n          335.5630322882546,\n          125.0,\n          10685.0\n        ],\n        \"semantic_type\": \"\",\n        \"description\": \"\"\n      }\n    },\n    {\n      \"column\": \"valor_seguro\",\n      \"properties\": {\n        \"dtype\": \"number\",\n        \"std\": 3746.2341228299247,\n        \"min\": 3.0,\n        \"max\": 10685.0,\n        \"num_unique_values\": 8,\n        \"samples\": [\n          53.21881141787553,\n          36.0,\n          10685.0\n        ],\n        \"semantic_type\": \"\",\n        \"description\": \"\"\n      }\n    },\n    {\n      \"column\": \"valor_total\",\n      \"properties\": {\n        \"dtype\": \"number\",\n        \"std\": 10366.094288140934,\n        \"min\": 499.0,\n        \"max\": 32750.0,\n        \"num_unique_values\": 8,\n        \"samples\": [\n          5198.132615816566,\n          3578.0,\n          10685.0\n        ],\n        \"semantic_type\": \"\",\n        \"description\": \"\"\n      }\n    }\n  ]\n}"
            }
          },
          "metadata": {},
          "execution_count": 5
        }
      ]
    },
    {
      "cell_type": "markdown",
      "source": [
        "### Temos alguns Outliers nessa base de dados, então trataremos eles nas próximas células"
      ],
      "metadata": {
        "id": "zC7CNRHmYezT"
      }
    },
    {
      "cell_type": "code",
      "source": [
        "sns.scatterplot(x = 'area', y = 'valor_aluguel', data=df)"
      ],
      "metadata": {
        "colab": {
          "base_uri": "https://localhost:8080/",
          "height": 0
        },
        "id": "dTFivjZAYbBA",
        "outputId": "64d40233-9cc0-405f-9dc7-316683fdc91c"
      },
      "execution_count": 6,
      "outputs": [
        {
          "output_type": "execute_result",
          "data": {
            "text/plain": [
              "<Axes: xlabel='area', ylabel='valor_aluguel'>"
            ]
          },
          "metadata": {},
          "execution_count": 6
        },
        {
          "output_type": "display_data",
          "data": {
            "text/plain": [
              "<Figure size 640x480 with 1 Axes>"
            ],
            "image/png": "[encoded data removed]"
          },
          "metadata": {}
        }
      ]
    },
    {
      "cell_type": "markdown",
      "source": [
        "## **Nesta seção, iremos criar nossa lista de OUTLIERS na escala dos nossos dados da coluna \"área\", ordenando eles acima do percentil 99%, mas determinando uma ordem para cada um**\n",
        "\n",
        "\n"
      ],
      "metadata": {
        "id": "m8zDDaiSqQcz"
      }
    },
    {
      "cell_type": "markdown",
      "source": [
        "### Não nos importaremos com OUTLIERS da área no valor mínimo, pois já vimos no .describe() que o menor valor é 11 e estou satisfeito com esse dado"
      ],
      "metadata": {
        "id": "ouXZoQ6NtLlt"
      }
    },
    {
      "cell_type": "code",
      "source": [
        "# Identificar o valor do percentil 99 da area\n",
        "percent_99_area = df['area'].quantile(0.99)\n",
        "percent_99_area\n",
        "# Checando todos os outliers acima do percentil 99\n",
        "outliers_area = df[df['area'] > percent_99_area]\n",
        "outliers_area"
      ],
      "metadata": {
        "colab": {
          "base_uri": "https://localhost:8080/",
          "height": 424
        },
        "id": "jbfCwd88dsex",
        "outputId": "6c4f50c5-d5c5-47a6-89c2-7016f50618ea"
      },
      "execution_count": 7,
      "outputs": [
        {
          "output_type": "execute_result",
          "data": {
            "text/plain": [
              "          cidade  area  quartos  banheiros  vagas_garagem  andar  \\\n",
              "131    São Paulo   900        4          6              8      0   \n",
              "143     Campinas   999        5          7              8      0   \n",
              "157    São Paulo   660        4          5              5     12   \n",
              "202    São Paulo   750        4          4              6      0   \n",
              "306    São Paulo   720        4          6              5      0   \n",
              "...          ...   ...      ...        ...            ...    ...   \n",
              "10177  São Paulo  1000        4          5              7      5   \n",
              "10363  São Paulo   700        6          6              6      0   \n",
              "10373   Campinas   800        4          7              4      0   \n",
              "10444  São Paulo   900        5          5              5      0   \n",
              "10465   Campinas   900        3          6              8      0   \n",
              "\n",
              "       aceita_animal  mobiliaria  valor_condominio  valor_aluguel  valor_iptu  \\\n",
              "131                1           0                 0          15000        4417   \n",
              "143                1           0                 0          14000         667   \n",
              "157                1           1              4800          20000        1750   \n",
              "202                1           0                 0          15000        2084   \n",
              "306                1           1                 0          12750        2613   \n",
              "...              ...         ...               ...            ...         ...   \n",
              "10177              1           0              8362           6800        4170   \n",
              "10363              1           0                 0           8500        1542   \n",
              "10373              1           0              2100          15000        1898   \n",
              "10444              0           0                 0          15000        3334   \n",
              "10465              1           0              2000          15000        1834   \n",
              "\n",
              "       valor_seguro  valor_total  \n",
              "131             226        19640  \n",
              "143             211        14880  \n",
              "157             254        26800  \n",
              "202             226        17310  \n",
              "306             192        15560  \n",
              "...             ...          ...  \n",
              "10177            87        19420  \n",
              "10363           128        10170  \n",
              "10373           226        19220  \n",
              "10444           226        18560  \n",
              "10465           226        19060  \n",
              "\n",
              "[106 rows x 13 columns]"
            ],
            "text/html": [
              "\n",
              "  <div id=\"df-dd4fb689-4b27-4277-888d-c01abae91259\" class=\"colab-df-container\">\n",
              "    <div>\n",
              "<style scoped>\n",
              "    .dataframe tbody tr th:only-of-type {\n",
              "        vertical-align: middle;\n",
              "    }\n",
              "\n",
              "    .dataframe tbody tr th {\n",
              "        vertical-align: top;\n",
              "    }\n",
              "\n",
              "    .dataframe thead th {\n",
              "        text-align: right;\n",
              "    }\n",
              "</style>\n",
              "<table border=\"1\" class=\"dataframe\">\n",
              "  <thead>\n",
              "    <tr style=\"text-align: right;\">\n",
              "      <th></th>\n",
              "      <th>cidade</th>\n",
              "      <th>area</th>\n",
              "      <th>quartos</th>\n",
              "      <th>banheiros</th>\n",
              "      <th>vagas_garagem</th>\n",
              "      <th>andar</th>\n",
              "      <th>aceita_animal</th>\n",
              "      <th>mobiliaria</th>\n",
              "      <th>valor_condominio</th>\n",
              "      <th>valor_aluguel</th>\n",
              "      <th>valor_iptu</th>\n",
              "      <th>valor_seguro</th>\n",
              "      <th>valor_total</th>\n",
              "    </tr>\n",
              "  </thead>\n",
              "  <tbody>\n",
              "    <tr>\n",
              "      <th>131</th>\n",
              "      <td>São Paulo</td>\n",
              "      <td>900</td>\n",
              "      <td>4</td>\n",
              "      <td>6</td>\n",
              "      <td>8</td>\n",
              "      <td>0</td>\n",
              "      <td>1</td>\n",
              "      <td>0</td>\n",
              "      <td>0</td>\n",
              "      <td>15000</td>\n",
              "      <td>4417</td>\n",
              "      <td>226</td>\n",
              "      <td>19640</td>\n",
              "    </tr>\n",
              "    <tr>\n",
              "      <th>143</th>\n",
              "      <td>Campinas</td>\n",
              "      <td>999</td>\n",
              "      <td>5</td>\n",
              "      <td>7</td>\n",
              "      <td>8</td>\n",
              "      <td>0</td>\n",
              "      <td>1</td>\n",
              "      <td>0</td>\n",
              "      <td>0</td>\n",
              "      <td>14000</td>\n",
              "      <td>667</td>\n",
              "      <td>211</td>\n",
              "      <td>14880</td>\n",
              "    </tr>\n",
              "    <tr>\n",
              "      <th>157</th>\n",
              "      <td>São Paulo</td>\n",
              "      <td>660</td>\n",
              "      <td>4</td>\n",
              "      <td>5</td>\n",
              "      <td>5</td>\n",
              "      <td>12</td>\n",
              "      <td>1</td>\n",
              "      <td>1</td>\n",
              "      <td>4800</td>\n",
              "      <td>20000</td>\n",
              "      <td>1750</td>\n",
              "      <td>254</td>\n",
              "      <td>26800</td>\n",
              "    </tr>\n",
              "    <tr>\n",
              "      <th>202</th>\n",
              "      <td>São Paulo</td>\n",
              "      <td>750</td>\n",
              "      <td>4</td>\n",
              "      <td>4</td>\n",
              "      <td>6</td>\n",
              "      <td>0</td>\n",
              "      <td>1</td>\n",
              "      <td>0</td>\n",
              "      <td>0</td>\n",
              "      <td>15000</td>\n",
              "      <td>2084</td>\n",
              "      <td>226</td>\n",
              "      <td>17310</td>\n",
              "    </tr>\n",
              "    <tr>\n",
              "      <th>306</th>\n",
              "      <td>São Paulo</td>\n",
              "      <td>720</td>\n",
              "      <td>4</td>\n",
              "      <td>6</td>\n",
              "      <td>5</td>\n",
              "      <td>0</td>\n",
              "      <td>1</td>\n",
              "      <td>1</td>\n",
              "      <td>0</td>\n",
              "      <td>12750</td>\n",
              "      <td>2613</td>\n",
              "      <td>192</td>\n",
              "      <td>15560</td>\n",
              "    </tr>\n",
              "    <tr>\n",
              "      <th>...</th>\n",
              "      <td>...</td>\n",
              "      <td>...</td>\n",
              "      <td>...</td>\n",
              "      <td>...</td>\n",
              "      <td>...</td>\n",
              "      <td>...</td>\n",
              "      <td>...</td>\n",
              "      <td>...</td>\n",
              "      <td>...</td>\n",
              "      <td>...</td>\n",
              "      <td>...</td>\n",
              "      <td>...</td>\n",
              "      <td>...</td>\n",
              "    </tr>\n",
              "    <tr>\n",
              "      <th>10177</th>\n",
              "      <td>São Paulo</td>\n",
              "      <td>1000</td>\n",
              "      <td>4</td>\n",
              "      <td>5</td>\n",
              "      <td>7</td>\n",
              "      <td>5</td>\n",
              "      <td>1</td>\n",
              "      <td>0</td>\n",
              "      <td>8362</td>\n",
              "      <td>6800</td>\n",
              "      <td>4170</td>\n",
              "      <td>87</td>\n",
              "      <td>19420</td>\n",
              "    </tr>\n",
              "    <tr>\n",
              "      <th>10363</th>\n",
              "      <td>São Paulo</td>\n",
              "      <td>700</td>\n",
              "      <td>6</td>\n",
              "      <td>6</td>\n",
              "      <td>6</td>\n",
              "      <td>0</td>\n",
              "      <td>1</td>\n",
              "      <td>0</td>\n",
              "      <td>0</td>\n",
              "      <td>8500</td>\n",
              "      <td>1542</td>\n",
              "      <td>128</td>\n",
              "      <td>10170</td>\n",
              "    </tr>\n",
              "    <tr>\n",
              "      <th>10373</th>\n",
              "      <td>Campinas</td>\n",
              "      <td>800</td>\n",
              "      <td>4</td>\n",
              "      <td>7</td>\n",
              "      <td>4</td>\n",
              "      <td>0</td>\n",
              "      <td>1</td>\n",
              "      <td>0</td>\n",
              "      <td>2100</td>\n",
              "      <td>15000</td>\n",
              "      <td>1898</td>\n",
              "      <td>226</td>\n",
              "      <td>19220</td>\n",
              "    </tr>\n",
              "    <tr>\n",
              "      <th>10444</th>\n",
              "      <td>São Paulo</td>\n",
              "      <td>900</td>\n",
              "      <td>5</td>\n",
              "      <td>5</td>\n",
              "      <td>5</td>\n",
              "      <td>0</td>\n",
              "      <td>0</td>\n",
              "      <td>0</td>\n",
              "      <td>0</td>\n",
              "      <td>15000</td>\n",
              "      <td>3334</td>\n",
              "      <td>226</td>\n",
              "      <td>18560</td>\n",
              "    </tr>\n",
              "    <tr>\n",
              "      <th>10465</th>\n",
              "      <td>Campinas</td>\n",
              "      <td>900</td>\n",
              "      <td>3</td>\n",
              "      <td>6</td>\n",
              "      <td>8</td>\n",
              "      <td>0</td>\n",
              "      <td>1</td>\n",
              "      <td>0</td>\n",
              "      <td>2000</td>\n",
              "      <td>15000</td>\n",
              "      <td>1834</td>\n",
              "      <td>226</td>\n",
              "      <td>19060</td>\n",
              "    </tr>\n",
              "  </tbody>\n",
              "</table>\n",
              "<p>106 rows × 13 columns</p>\n",
              "</div>\n",
              "    <div class=\"colab-df-buttons\">\n",
              "\n",
              "  <div class=\"colab-df-container\">\n",
              "    <button class=\"colab-df-convert\" onclick=\"convertToInteractive('df-dd4fb689-4b27-4277-888d-c01abae91259')\"\n",
              "            title=\"Convert this dataframe to an interactive table.\"\n",
              "            style=\"display:none;\">\n",
              "\n",
              "  <svg xmlns=\"http://www.w3.org/2000/svg\" height=\"24px\" viewBox=\"0 -960 960 960\">\n",
              "    <path d=\"M120-120v-720h720v720H120Zm60-500h600v-160H180v160Zm220 220h160v-160H400v160Zm0 220h160v-160H400v160ZM180-400h160v-160H180v160Zm440 0h160v-160H620v160ZM180-180h160v-160H180v160Zm440 0h160v-160H620v160Z\"/>\n",
              "  </svg>\n",
              "    </button>\n",
              "\n",
              "  <style>\n",
              "    .colab-df-container {\n",
              "      display:flex;\n",
              "      gap: 12px;\n",
              "    }\n",
              "\n",
              "    .colab-df-convert {\n",
              "      background-color: #E8F0FE;\n",
              "      border: none;\n",
              "      border-radius: 50%;\n",
              "      cursor: pointer;\n",
              "      display: none;\n",
              "      fill: #1967D2;\n",
              "      height: 32px;\n",
              "      padding: 0 0 0 0;\n",
              "      width: 32px;\n",
              "    }\n",
              "\n",
              "    .colab-df-convert:hover {\n",
              "      background-color: #E2EBFA;\n",
              "      box-shadow: 0px 1px 2px rgba(60, 64, 67, 0.3), 0px 1px 3px 1px rgba(60, 64, 67, 0.15);\n",
              "      fill: #174EA6;\n",
              "    }\n",
              "\n",
              "    .colab-df-buttons div {\n",
              "      margin-bottom: 4px;\n",
              "    }\n",
              "\n",
              "    [theme=dark] .colab-df-convert {\n",
              "      background-color: #3B4455;\n",
              "      fill: #D2E3FC;\n",
              "    }\n",
              "\n",
              "    [theme=dark] .colab-df-convert:hover {\n",
              "      background-color: #434B5C;\n",
              "      box-shadow: 0px 1px 3px 1px rgba(0, 0, 0, 0.15);\n",
              "      filter: drop-shadow(0px 1px 2px rgba(0, 0, 0, 0.3));\n",
              "      fill: #FFFFFF;\n",
              "    }\n",
              "  </style>\n",
              "\n",
              "    <script>\n",
              "      const buttonEl =\n",
              "        document.querySelector('#df-dd4fb689-4b27-4277-888d-c01abae91259 button.colab-df-convert');\n",
              "      buttonEl.style.display =\n",
              "        google.colab.kernel.accessAllowed ? 'block' : 'none';\n",
              "\n",
              "      async function convertToInteractive(key) {\n",
              "        const element = document.querySelector('#df-dd4fb689-4b27-4277-888d-c01abae91259');\n",
              "        const dataTable =\n",
              "          await google.colab.kernel.invokeFunction('convertToInteractive',\n",
              "                                                    [key], {});\n",
              "        if (!dataTable) return;\n",
              "\n",
              "        const docLinkHtml = 'Like what you see? Visit the ' +\n",
              "          '<a target=\"_blank\" href=https://colab.research.google.com/notebooks/data_table.ipynb>data table notebook</a>'\n",
              "          + ' to learn more about interactive tables.';\n",
              "        element.innerHTML = '';\n",
              "        dataTable['output_type'] = 'display_data';\n",
              "        await google.colab.output.renderOutput(dataTable, element);\n",
              "        const docLink = document.createElement('div');\n",
              "        docLink.innerHTML = docLinkHtml;\n",
              "        element.appendChild(docLink);\n",
              "      }\n",
              "    </script>\n",
              "  </div>\n",
              "\n",
              "\n",
              "<div id=\"df-bfa460d4-dde0-4086-987d-a8c1309419f5\">\n",
              "  <button class=\"colab-df-quickchart\" onclick=\"quickchart('df-bfa460d4-dde0-4086-987d-a8c1309419f5')\"\n",
              "            title=\"Suggest charts\"\n",
              "            style=\"display:none;\">\n",
              "\n",
              "<svg xmlns=\"http://www.w3.org/2000/svg\" height=\"24px\"viewBox=\"0 0 24 24\"\n",
              "     width=\"24px\">\n",
              "    <g>\n",
              "        <path d=\"M19 3H5c-1.1 0-2 .9-2 2v14c0 1.1.9 2 2 2h14c1.1 0 2-.9 2-2V5c0-1.1-.9-2-2-2zM9 17H7v-7h2v7zm4 0h-2V7h2v10zm4 0h-2v-4h2v4z\"/>\n",
              "    </g>\n",
              "</svg>\n",
              "  </button>\n",
              "\n",
              "<style>\n",
              "  .colab-df-quickchart {\n",
              "      --bg-color: #E8F0FE;\n",
              "      --fill-color: #1967D2;\n",
              "      --hover-bg-color: #E2EBFA;\n",
              "      --hover-fill-color: #174EA6;\n",
              "      --disabled-fill-color: #AAA;\n",
              "      --disabled-bg-color: #DDD;\n",
              "  }\n",
              "\n",
              "  [theme=dark] .colab-df-quickchart {\n",
              "      --bg-color: #3B4455;\n",
              "      --fill-color: #D2E3FC;\n",
              "      --hover-bg-color: #434B5C;\n",
              "      --hover-fill-color: #FFFFFF;\n",
              "      --disabled-bg-color: #3B4455;\n",
              "      --disabled-fill-color: #666;\n",
              "  }\n",
              "\n",
              "  .colab-df-quickchart {\n",
              "    background-color: var(--bg-color);\n",
              "    border: none;\n",
              "    border-radius: 50%;\n",
              "    cursor: pointer;\n",
              "    display: none;\n",
              "    fill: var(--fill-color);\n",
              "    height: 32px;\n",
              "    padding: 0;\n",
              "    width: 32px;\n",
              "  }\n",
              "\n",
              "  .colab-df-quickchart:hover {\n",
              "    background-color: var(--hover-bg-color);\n",
              "    box-shadow: 0 1px 2px rgba(60, 64, 67, 0.3), 0 1px 3px 1px rgba(60, 64, 67, 0.15);\n",
              "    fill: var(--button-hover-fill-color);\n",
              "  }\n",
              "\n",
              "  .colab-df-quickchart-complete:disabled,\n",
              "  .colab-df-quickchart-complete:disabled:hover {\n",
              "    background-color: var(--disabled-bg-color);\n",
              "    fill: var(--disabled-fill-color);\n",
              "    box-shadow: none;\n",
              "  }\n",
              "\n",
              "  .colab-df-spinner {\n",
              "    border: 2px solid var(--fill-color);\n",
              "    border-color: transparent;\n",
              "    border-bottom-color: var(--fill-color);\n",
              "    animation:\n",
              "      spin 1s steps(1) infinite;\n",
              "  }\n",
              "\n",
              "  @keyframes spin {\n",
              "    0% {\n",
              "      border-color: transparent;\n",
              "      border-bottom-color: var(--fill-color);\n",
              "      border-left-color: var(--fill-color);\n",
              "    }\n",
              "    20% {\n",
              "      border-color: transparent;\n",
              "      border-left-color: var(--fill-color);\n",
              "      border-top-color: var(--fill-color);\n",
              "    }\n",
              "    30% {\n",
              "      border-color: transparent;\n",
              "      border-left-color: var(--fill-color);\n",
              "      border-top-color: var(--fill-color);\n",
              "      border-right-color: var(--fill-color);\n",
              "    }\n",
              "    40% {\n",
              "      border-color: transparent;\n",
              "      border-right-color: var(--fill-color);\n",
              "      border-top-color: var(--fill-color);\n",
              "    }\n",
              "    60% {\n",
              "      border-color: transparent;\n",
              "      border-right-color: var(--fill-color);\n",
              "    }\n",
              "    80% {\n",
              "      border-color: transparent;\n",
              "      border-right-color: var(--fill-color);\n",
              "      border-bottom-color: var(--fill-color);\n",
              "    }\n",
              "    90% {\n",
              "      border-color: transparent;\n",
              "      border-bottom-color: var(--fill-color);\n",
              "    }\n",
              "  }\n",
              "</style>\n",
              "\n",
              "  <script>\n",
              "    async function quickchart(key) {\n",
              "      const quickchartButtonEl =\n",
              "        document.querySelector('#' + key + ' button');\n",
              "      quickchartButtonEl.disabled = true;  // To prevent multiple clicks.\n",
              "      quickchartButtonEl.classList.add('colab-df-spinner');\n",
              "      try {\n",
              "        const charts = await google.colab.kernel.invokeFunction(\n",
              "            'suggestCharts', [key], {});\n",
              "      } catch (error) {\n",
              "        console.error('Error during call to suggestCharts:', error);\n",
              "      }\n",
              "      quickchartButtonEl.classList.remove('colab-df-spinner');\n",
              "      quickchartButtonEl.classList.add('colab-df-quickchart-complete');\n",
              "    }\n",
              "    (() => {\n",
              "      let quickchartButtonEl =\n",
              "        document.querySelector('#df-bfa460d4-dde0-4086-987d-a8c1309419f5 button');\n",
              "      quickchartButtonEl.style.display =\n",
              "        google.colab.kernel.accessAllowed ? 'block' : 'none';\n",
              "    })();\n",
              "  </script>\n",
              "</div>\n",
              "\n",
              "  <div id=\"id_29e4a500-2ef7-452c-9dba-f68fa7b9a7fa\">\n",
              "    <style>\n",
              "      .colab-df-generate {\n",
              "        background-color: #E8F0FE;\n",
              "        border: none;\n",
              "        border-radius: 50%;\n",
              "        cursor: pointer;\n",
              "        display: none;\n",
              "        fill: #1967D2;\n",
              "        height: 32px;\n",
              "        padding: 0 0 0 0;\n",
              "        width: 32px;\n",
              "      }\n",
              "\n",
              "      .colab-df-generate:hover {\n",
              "        background-color: #E2EBFA;\n",
              "        box-shadow: 0px 1px 2px rgba(60, 64, 67, 0.3), 0px 1px 3px 1px rgba(60, 64, 67, 0.15);\n",
              "        fill: #174EA6;\n",
              "      }\n",
              "\n",
              "      [theme=dark] .colab-df-generate {\n",
              "        background-color: #3B4455;\n",
              "        fill: #D2E3FC;\n",
              "      }\n",
              "\n",
              "      [theme=dark] .colab-df-generate:hover {\n",
              "        background-color: #434B5C;\n",
              "        box-shadow: 0px 1px 3px 1px rgba(0, 0, 0, 0.15);\n",
              "        filter: drop-shadow(0px 1px 2px rgba(0, 0, 0, 0.3));\n",
              "        fill: #FFFFFF;\n",
              "      }\n",
              "    </style>\n",
              "    <button class=\"colab-df-generate\" onclick=\"generateWithVariable('outliers_area')\"\n",
              "            title=\"Generate code using this dataframe.\"\n",
              "            style=\"display:none;\">\n",
              "\n",
              "  <svg xmlns=\"http://www.w3.org/2000/svg\" height=\"24px\"viewBox=\"0 0 24 24\"\n",
              "       width=\"24px\">\n",
              "    <path d=\"M7,19H8.4L18.45,9,17,7.55,7,17.6ZM5,21V16.75L18.45,3.32a2,2,0,0,1,2.83,0l1.4,1.43a1.91,1.91,0,0,1,.58,1.4,1.91,1.91,0,0,1-.58,1.4L9.25,21ZM18.45,9,17,7.55Zm-12,3A5.31,5.31,0,0,0,4.9,8.1,5.31,5.31,0,0,0,1,6.5,5.31,5.31,0,0,0,4.9,4.9,5.31,5.31,0,0,0,6.5,1,5.31,5.31,0,0,0,8.1,4.9,5.31,5.31,0,0,0,12,6.5,5.46,5.46,0,0,0,6.5,12Z\"/>\n",
              "  </svg>\n",
              "    </button>\n",
              "    <script>\n",
              "      (() => {\n",
              "      const buttonEl =\n",
              "        document.querySelector('#id_29e4a500-2ef7-452c-9dba-f68fa7b9a7fa button.colab-df-generate');\n",
              "      buttonEl.style.display =\n",
              "        google.colab.kernel.accessAllowed ? 'block' : 'none';\n",
              "\n",
              "      buttonEl.onclick = () => {\n",
              "        google.colab.notebook.generateWithVariable('outliers_area');\n",
              "      }\n",
              "      })();\n",
              "    </script>\n",
              "  </div>\n",
              "\n",
              "    </div>\n",
              "  </div>\n"
            ],
            "application/vnd.google.colaboratory.intrinsic+json": {
              "type": "dataframe",
              "variable_name": "outliers_area",
              "summary": "{\n  \"name\": \"outliers_area\",\n  \"rows\": 106,\n  \"fields\": [\n    {\n      \"column\": \"cidade\",\n      \"properties\": {\n        \"dtype\": \"category\",\n        \"num_unique_values\": 5,\n        \"samples\": [\n          \"Campinas\",\n          \"Porto Alegre\",\n          \"Rio de Janeiro\"\n        ],\n        \"semantic_type\": \"\",\n        \"description\": \"\"\n      }\n    },\n    {\n      \"column\": \"area\",\n      \"properties\": {\n        \"dtype\": \"number\",\n        \"std\": 5088,\n        \"min\": 651,\n        \"max\": 46335,\n        \"num_unique_values\": 41,\n        \"samples\": [\n          24606,\n          981,\n          1600\n        ],\n        \"semantic_type\": \"\",\n        \"description\": \"\"\n      }\n    },\n    {\n      \"column\": \"quartos\",\n      \"properties\": {\n        \"dtype\": \"number\",\n        \"std\": 1,\n        \"min\": 2,\n        \"max\": 8,\n        \"num_unique_values\": 7,\n        \"samples\": [\n          4,\n          5,\n          8\n        ],\n        \"semantic_type\": \"\",\n        \"description\": \"\"\n      }\n    },\n    {\n      \"column\": \"banheiros\",\n      \"properties\": {\n        \"dtype\": \"number\",\n        \"std\": 1,\n        \"min\": 2,\n        \"max\": 10,\n        \"num_unique_values\": 9,\n        \"samples\": [\n          8,\n          7,\n          2\n        ],\n        \"semantic_type\": \"\",\n        \"description\": \"\"\n      }\n    },\n    {\n      \"column\": \"vagas_garagem\",\n      \"properties\": {\n        \"dtype\": \"number\",\n        \"std\": 2,\n        \"min\": 0,\n        \"max\": 12,\n        \"num_unique_values\": 10,\n        \"samples\": [\n          0,\n          5,\n          2\n        ],\n        \"semantic_type\": \"\",\n        \"description\": \"\"\n      }\n    },\n    {\n      \"column\": \"andar\",\n      \"properties\": {\n        \"dtype\": \"number\",\n        \"std\": 4,\n        \"min\": 0,\n        \"max\": 21,\n        \"num_unique_values\": 15,\n        \"samples\": [\n          15,\n          16,\n          0\n        ],\n        \"semantic_type\": \"\",\n        \"description\": \"\"\n      }\n    },\n    {\n      \"column\": \"aceita_animal\",\n      \"properties\": {\n        \"dtype\": \"number\",\n        \"std\": 0,\n        \"min\": 0,\n        \"max\": 1,\n        \"num_unique_values\": 2,\n        \"samples\": [\n          0,\n          1\n        ],\n        \"semantic_type\": \"\",\n        \"description\": \"\"\n      }\n    },\n    {\n      \"column\": \"mobiliaria\",\n      \"properties\": {\n        \"dtype\": \"number\",\n        \"std\": 0,\n        \"min\": 0,\n        \"max\": 1,\n        \"num_unique_values\": 2,\n        \"samples\": [\n          1,\n          0\n        ],\n        \"semantic_type\": \"\",\n        \"description\": \"\"\n      }\n    },\n    {\n      \"column\": \"valor_condominio\",\n      \"properties\": {\n        \"dtype\": \"number\",\n        \"std\": 2905,\n        \"min\": 0,\n        \"max\": 15000,\n        \"num_unique_values\": 33,\n        \"samples\": [\n          2100,\n          14000\n        ],\n        \"semantic_type\": \"\",\n        \"description\": \"\"\n      }\n    },\n    {\n      \"column\": \"valor_aluguel\",\n      \"properties\": {\n        \"dtype\": \"number\",\n        \"std\": 3991,\n        \"min\": 1000,\n        \"max\": 20000,\n        \"num_unique_values\": 42,\n        \"samples\": [\n          6900,\n          10000\n        ],\n        \"semantic_type\": \"\",\n        \"description\": \"\"\n      }\n    },\n    {\n      \"column\": \"valor_iptu\",\n      \"properties\": {\n        \"dtype\": \"number\",\n        \"std\": 2671,\n        \"min\": 0,\n        \"max\": 21880,\n        \"num_unique_values\": 78,\n        \"samples\": [\n          365,\n          4417\n        ],\n        \"semantic_type\": \"\",\n        \"description\": \"\"\n      }\n    },\n    {\n      \"column\": \"valor_seguro\",\n      \"properties\": {\n        \"dtype\": \"number\",\n        \"std\": 60,\n        \"min\": 15,\n        \"max\": 301,\n        \"num_unique_values\": 56,\n        \"samples\": [\n          226,\n          132\n        ],\n        \"semantic_type\": \"\",\n        \"description\": \"\"\n      }\n    },\n    {\n      \"column\": \"valor_total\",\n      \"properties\": {\n        \"dtype\": \"number\",\n        \"std\": 5857,\n        \"min\": 2191,\n        \"max\": 32040,\n        \"num_unique_values\": 99,\n        \"samples\": [\n          13850,\n          19210\n        ],\n        \"semantic_type\": \"\",\n        \"description\": \"\"\n      }\n    }\n  ]\n}"
            }
          },
          "metadata": {},
          "execution_count": 7
        }
      ]
    },
    {
      "cell_type": "markdown",
      "source": [
        "### Neste exemplo, `np.linspace()` é usado para gerar uma sequência de valores entre `percentile_99 + 1` e `percentile_99 + 10` (ou qualquer intervalo desejado). Esses valores serão usados para substituir os outliers na coluna 'area' do DataFrame. A função `count()` é usada para determinar quantos outliers existem, de modo a garantir que a sequência gerada tenha o mesmo número de valores. Isso garante que os valores substitutos tenham uma ordem entre si e sejam maiores que o percentil 99."
      ],
      "metadata": {
        "id": "Kl0E0f2Teuza"
      }
    },
    {
      "cell_type": "code",
      "source": [
        "# Substituindo os outliers por valores um pouco maiores que o percentil 99, mas colocando uma ordem entre eles, para que o ajuste seja fiel ao dado real\n",
        "outlier_area_replacement_values = list(np.linspace(percent_99_area + 1, percent_99_area + 50, num=df['area'][df['area'] > percent_99_area].count()))\n",
        "# Verificando se a quantidade de outliers trocados são exatamente iguais ao de outliers contados na célula de cima\n",
        "len(outlier_area_replacement_values)"
      ],
      "metadata": {
        "colab": {
          "base_uri": "https://localhost:8080/"
        },
        "id": "rZiQdsVQbXin",
        "outputId": "463ee80a-2b69-44fb-9285-c8777e30e453"
      },
      "execution_count": 8,
      "outputs": [
        {
          "output_type": "execute_result",
          "data": {
            "text/plain": [
              "106"
            ]
          },
          "metadata": {},
          "execution_count": 8
        }
      ]
    },
    {
      "cell_type": "code",
      "source": [
        "# Esse é o nosso array dos outliers ajustados na nossa escala\n",
        "#df['original_order'] = range(len(df))\n",
        "#outlier_area_replacement_values"
      ],
      "metadata": {
        "id": "mZh-_81KeQI9"
      },
      "execution_count": 9,
      "outputs": []
    },
    {
      "cell_type": "markdown",
      "source": [
        "### Substituindo os OUTLIERS da nossa base de dados pelos valores que geramos acima da nossa lista outlier_area_replacement_values.\n"
      ],
      "metadata": {
        "id": "VBY30MFWfcgM"
      }
    },
    {
      "cell_type": "markdown",
      "source": [
        "### Os outliers estão sendo substituídos de acordo com a ordem de sua própria grandeza e da lista dos OUTLIERS na nova escala, para assim, termos uma substituição que faça sentido"
      ],
      "metadata": {
        "id": "yJ22n89CqH8J"
      }
    },
    {
      "cell_type": "code",
      "source": [
        "df_sorted = df.sort_values(by='area')\n",
        "outlier_indices = df_sorted['area'] > percent_99_area\n",
        "\n",
        "# Substituir os outliers na ordem correta\n",
        "for i, idx in enumerate(df_sorted.index[outlier_indices]):\n",
        "    df_sorted.at[idx, 'area'] = outlier_area_replacement_values[i]\n",
        "print(df_sorted[df_sorted['area'] > percent_99_area])"
      ],
      "metadata": {
        "colab": {
          "base_uri": "https://localhost:8080/"
        },
        "id": "j-G_9HazfbLG",
        "outputId": "a8ab7e1f-34cb-4c06-f442-2a773d03fef0"
      },
      "execution_count": 10,
      "outputs": [
        {
          "output_type": "stream",
          "name": "stdout",
          "text": [
            "              cidade        area  quartos  banheiros  vagas_garagem  andar  \\\n",
            "8106       São Paulo  651.000000        7          7              8      0   \n",
            "7639  Belo Horizonte  651.466667        5          4              6      0   \n",
            "157        São Paulo  651.933333        4          5              5     12   \n",
            "7900       São Paulo  652.400000        4          6              4      0   \n",
            "1960        Campinas  652.866667        5          7              4     17   \n",
            "...              ...         ...      ...        ...            ...    ...   \n",
            "8784  Belo Horizonte  698.133333        3          3              2      2   \n",
            "5126  Belo Horizonte  698.600000        4          2              3      0   \n",
            "9235        Campinas  699.066667        3          2              0      3   \n",
            "5912       São Paulo  699.533333        5          4              4     12   \n",
            "2396  Belo Horizonte  700.000000        4          8              5     11   \n",
            "\n",
            "      aceita_animal  mobiliaria  valor_condominio  valor_aluguel  valor_iptu  \\\n",
            "8106              1           0                 0           8500        1595   \n",
            "7639              1           0                 0          11000         913   \n",
            "157               1           1              4800          20000        1750   \n",
            "7900              1           0               500           6000        4283   \n",
            "1960              1           0              5381          10000        1100   \n",
            "...             ...         ...               ...            ...         ...   \n",
            "8784              1           1              3000           5000         200   \n",
            "5126              1           0                 0           4956         200   \n",
            "9235              1           0               700           1600          96   \n",
            "5912              1           0              2254           8100        7859   \n",
            "2396              1           1               960           8500         646   \n",
            "\n",
            "      valor_seguro  valor_total  \n",
            "8106           128        10220  \n",
            "7639           181        12090  \n",
            "157            254        26800  \n",
            "7900            91        10870  \n",
            "1960           127        16610  \n",
            "...            ...          ...  \n",
            "8784            67         8267  \n",
            "5126            82         5238  \n",
            "9235            21         2417  \n",
            "5912           103        18320  \n",
            "2396           114        10220  \n",
            "\n",
            "[106 rows x 13 columns]\n"
          ]
        }
      ]
    },
    {
      "cell_type": "markdown",
      "source": [
        "### Podemos verificar que o ajuste está fiel, pois o nosso maior valor de 40k, que é Belo Horizonte, está com o maior valor de nossa escala"
      ],
      "metadata": {
        "id": "lYA_irc3oQmY"
      }
    },
    {
      "cell_type": "code",
      "source": [
        "print(df.at[2396, 'area'])\n",
        "print(df_sorted.at[2396, 'area'])"
      ],
      "metadata": {
        "colab": {
          "base_uri": "https://localhost:8080/"
        },
        "id": "mNQBS7sGnzp5",
        "outputId": "5b96cdfc-37a7-4fe7-c0f8-fdbc165b03d9"
      },
      "execution_count": 11,
      "outputs": [
        {
          "output_type": "stream",
          "name": "stdout",
          "text": [
            "46335\n",
            "700.0\n"
          ]
        }
      ]
    },
    {
      "cell_type": "markdown",
      "source": [
        "### Retornando a ordenação do nosso data_frame pelo INDEX"
      ],
      "metadata": {
        "id": "yfpEScGIu0U0"
      }
    },
    {
      "cell_type": "code",
      "source": [
        "df['area'] = df_sorted['area']"
      ],
      "metadata": {
        "id": "iuSKWDISur00"
      },
      "execution_count": 12,
      "outputs": []
    },
    {
      "cell_type": "code",
      "source": [
        "print(df.at[2396, 'area'])"
      ],
      "metadata": {
        "colab": {
          "base_uri": "https://localhost:8080/"
        },
        "id": "3zVZMyeq07B1",
        "outputId": "144cf2e2-24e0-4ef8-ed3a-919ec1b1a94f"
      },
      "execution_count": 13,
      "outputs": [
        {
          "output_type": "stream",
          "name": "stdout",
          "text": [
            "700.0\n"
          ]
        }
      ]
    },
    {
      "cell_type": "markdown",
      "source": [
        "## **Nesta seção, iremos criar nossa lista de OUTLIERS na escala dos nossos dados da coluna \"aluguel\", ordenando eles acima do percentil 99%, mas determinando uma ordem para cada um**\n",
        "## PS: Não comentarei as células a seguir, pois seguem o mesmo princípio do mecanismo da área\n",
        "\n",
        "\n"
      ],
      "metadata": {
        "id": "6lRBOcSDf3Dl"
      }
    },
    {
      "cell_type": "code",
      "source": [
        "# Identificar o valor do percentil 99 da area\n",
        "percent_99_aluguel = df['valor_aluguel'].quantile(0.99)\n",
        "percent_99_aluguel\n",
        "# Checando todos os outliers acima do percentil 99\n",
        "outliers_aluguel = df[df['valor_aluguel'] > percent_99_aluguel]\n",
        "outliers_aluguel"
      ],
      "metadata": {
        "colab": {
          "base_uri": "https://localhost:8080/",
          "height": 394
        },
        "id": "42uBpIBfe6jY",
        "outputId": "84497d12-ccc4-45a4-969e-4b6f5e450c24"
      },
      "execution_count": 14,
      "outputs": [
        {
          "output_type": "execute_result",
          "data": {
            "text/plain": [
              "            cidade        area  quartos  banheiros  vagas_garagem  andar  \\\n",
              "157      São Paulo  651.933333        4          5              5     12   \n",
              "1253     São Paulo  315.000000        3          5              2     14   \n",
              "1743     São Paulo  410.000000        4          5              5      1   \n",
              "2520  Porto Alegre  318.000000        4          3              0      0   \n",
              "2618     São Paulo   80.000000        2          1              1      1   \n",
              "5522     São Paulo  687.866667        3          4              8      0   \n",
              "5738     São Paulo  303.000000        3          4              4      1   \n",
              "6115     São Paulo  240.000000        4          4              4      5   \n",
              "6182     São Paulo  455.000000        4          5              4      5   \n",
              "6942     São Paulo  486.000000        8          4              6      0   \n",
              "7742     São Paulo  350.000000        3          3              3      0   \n",
              "\n",
              "      aceita_animal  mobiliaria  valor_condominio  valor_aluguel  valor_iptu  \\\n",
              "157               1           1              4800          20000        1750   \n",
              "1253              0           0              4300          20000         959   \n",
              "1743              1           0                 0          20000           0   \n",
              "2520              1           0                 0          19000         384   \n",
              "2618              1           0               875          24000           0   \n",
              "5522              1           0                 0          20000        3813   \n",
              "5738              1           1              4540          18000           0   \n",
              "6115              1           0              2700          16000        1667   \n",
              "6182              1           0              8500          19500        3334   \n",
              "6942              1           0                 0          25000        2200   \n",
              "7742              1           0                 0          30000         560   \n",
              "\n",
              "      valor_seguro  valor_total  \n",
              "157            254        26800  \n",
              "1253           254        25510  \n",
              "1743           254        20250  \n",
              "2520           338        19720  \n",
              "2618           305        25180  \n",
              "5522           301        24110  \n",
              "5738           229        22770  \n",
              "6115           203        20570  \n",
              "6182           248        31580  \n",
              "6942           376        27580  \n",
              "7742           451        31010  "
            ],
            "text/html": [
              "\n",
              "  <div id=\"df-066b0d50-d9d6-4b11-a9e0-49c2955c3c50\" class=\"colab-df-container\">\n",
              "    <div>\n",
              "<style scoped>\n",
              "    .dataframe tbody tr th:only-of-type {\n",
              "        vertical-align: middle;\n",
              "    }\n",
              "\n",
              "    .dataframe tbody tr th {\n",
              "        vertical-align: top;\n",
              "    }\n",
              "\n",
              "    .dataframe thead th {\n",
              "        text-align: right;\n",
              "    }\n",
              "</style>\n",
              "<table border=\"1\" class=\"dataframe\">\n",
              "  <thead>\n",
              "    <tr style=\"text-align: right;\">\n",
              "      <th></th>\n",
              "      <th>cidade</th>\n",
              "      <th>area</th>\n",
              "      <th>quartos</th>\n",
              "      <th>banheiros</th>\n",
              "      <th>vagas_garagem</th>\n",
              "      <th>andar</th>\n",
              "      <th>aceita_animal</th>\n",
              "      <th>mobiliaria</th>\n",
              "      <th>valor_condominio</th>\n",
              "      <th>valor_aluguel</th>\n",
              "      <th>valor_iptu</th>\n",
              "      <th>valor_seguro</th>\n",
              "      <th>valor_total</th>\n",
              "    </tr>\n",
              "  </thead>\n",
              "  <tbody>\n",
              "    <tr>\n",
              "      <th>157</th>\n",
              "      <td>São Paulo</td>\n",
              "      <td>651.933333</td>\n",
              "      <td>4</td>\n",
              "      <td>5</td>\n",
              "      <td>5</td>\n",
              "      <td>12</td>\n",
              "      <td>1</td>\n",
              "      <td>1</td>\n",
              "      <td>4800</td>\n",
              "      <td>20000</td>\n",
              "      <td>1750</td>\n",
              "      <td>254</td>\n",
              "      <td>26800</td>\n",
              "    </tr>\n",
              "    <tr>\n",
              "      <th>1253</th>\n",
              "      <td>São Paulo</td>\n",
              "      <td>315.000000</td>\n",
              "      <td>3</td>\n",
              "      <td>5</td>\n",
              "      <td>2</td>\n",
              "      <td>14</td>\n",
              "      <td>0</td>\n",
              "      <td>0</td>\n",
              "      <td>4300</td>\n",
              "      <td>20000</td>\n",
              "      <td>959</td>\n",
              "      <td>254</td>\n",
              "      <td>25510</td>\n",
              "    </tr>\n",
              "    <tr>\n",
              "      <th>1743</th>\n",
              "      <td>São Paulo</td>\n",
              "      <td>410.000000</td>\n",
              "      <td>4</td>\n",
              "      <td>5</td>\n",
              "      <td>5</td>\n",
              "      <td>1</td>\n",
              "      <td>1</td>\n",
              "      <td>0</td>\n",
              "      <td>0</td>\n",
              "      <td>20000</td>\n",
              "      <td>0</td>\n",
              "      <td>254</td>\n",
              "      <td>20250</td>\n",
              "    </tr>\n",
              "    <tr>\n",
              "      <th>2520</th>\n",
              "      <td>Porto Alegre</td>\n",
              "      <td>318.000000</td>\n",
              "      <td>4</td>\n",
              "      <td>3</td>\n",
              "      <td>0</td>\n",
              "      <td>0</td>\n",
              "      <td>1</td>\n",
              "      <td>0</td>\n",
              "      <td>0</td>\n",
              "      <td>19000</td>\n",
              "      <td>384</td>\n",
              "      <td>338</td>\n",
              "      <td>19720</td>\n",
              "    </tr>\n",
              "    <tr>\n",
              "      <th>2618</th>\n",
              "      <td>São Paulo</td>\n",
              "      <td>80.000000</td>\n",
              "      <td>2</td>\n",
              "      <td>1</td>\n",
              "      <td>1</td>\n",
              "      <td>1</td>\n",
              "      <td>1</td>\n",
              "      <td>0</td>\n",
              "      <td>875</td>\n",
              "      <td>24000</td>\n",
              "      <td>0</td>\n",
              "      <td>305</td>\n",
              "      <td>25180</td>\n",
              "    </tr>\n",
              "    <tr>\n",
              "      <th>5522</th>\n",
              "      <td>São Paulo</td>\n",
              "      <td>687.866667</td>\n",
              "      <td>3</td>\n",
              "      <td>4</td>\n",
              "      <td>8</td>\n",
              "      <td>0</td>\n",
              "      <td>1</td>\n",
              "      <td>0</td>\n",
              "      <td>0</td>\n",
              "      <td>20000</td>\n",
              "      <td>3813</td>\n",
              "      <td>301</td>\n",
              "      <td>24110</td>\n",
              "    </tr>\n",
              "    <tr>\n",
              "      <th>5738</th>\n",
              "      <td>São Paulo</td>\n",
              "      <td>303.000000</td>\n",
              "      <td>3</td>\n",
              "      <td>4</td>\n",
              "      <td>4</td>\n",
              "      <td>1</td>\n",
              "      <td>1</td>\n",
              "      <td>1</td>\n",
              "      <td>4540</td>\n",
              "      <td>18000</td>\n",
              "      <td>0</td>\n",
              "      <td>229</td>\n",
              "      <td>22770</td>\n",
              "    </tr>\n",
              "    <tr>\n",
              "      <th>6115</th>\n",
              "      <td>São Paulo</td>\n",
              "      <td>240.000000</td>\n",
              "      <td>4</td>\n",
              "      <td>4</td>\n",
              "      <td>4</td>\n",
              "      <td>5</td>\n",
              "      <td>1</td>\n",
              "      <td>0</td>\n",
              "      <td>2700</td>\n",
              "      <td>16000</td>\n",
              "      <td>1667</td>\n",
              "      <td>203</td>\n",
              "      <td>20570</td>\n",
              "    </tr>\n",
              "    <tr>\n",
              "      <th>6182</th>\n",
              "      <td>São Paulo</td>\n",
              "      <td>455.000000</td>\n",
              "      <td>4</td>\n",
              "      <td>5</td>\n",
              "      <td>4</td>\n",
              "      <td>5</td>\n",
              "      <td>1</td>\n",
              "      <td>0</td>\n",
              "      <td>8500</td>\n",
              "      <td>19500</td>\n",
              "      <td>3334</td>\n",
              "      <td>248</td>\n",
              "      <td>31580</td>\n",
              "    </tr>\n",
              "    <tr>\n",
              "      <th>6942</th>\n",
              "      <td>São Paulo</td>\n",
              "      <td>486.000000</td>\n",
              "      <td>8</td>\n",
              "      <td>4</td>\n",
              "      <td>6</td>\n",
              "      <td>0</td>\n",
              "      <td>1</td>\n",
              "      <td>0</td>\n",
              "      <td>0</td>\n",
              "      <td>25000</td>\n",
              "      <td>2200</td>\n",
              "      <td>376</td>\n",
              "      <td>27580</td>\n",
              "    </tr>\n",
              "    <tr>\n",
              "      <th>7742</th>\n",
              "      <td>São Paulo</td>\n",
              "      <td>350.000000</td>\n",
              "      <td>3</td>\n",
              "      <td>3</td>\n",
              "      <td>3</td>\n",
              "      <td>0</td>\n",
              "      <td>1</td>\n",
              "      <td>0</td>\n",
              "      <td>0</td>\n",
              "      <td>30000</td>\n",
              "      <td>560</td>\n",
              "      <td>451</td>\n",
              "      <td>31010</td>\n",
              "    </tr>\n",
              "  </tbody>\n",
              "</table>\n",
              "</div>\n",
              "    <div class=\"colab-df-buttons\">\n",
              "\n",
              "  <div class=\"colab-df-container\">\n",
              "    <button class=\"colab-df-convert\" onclick=\"convertToInteractive('df-066b0d50-d9d6-4b11-a9e0-49c2955c3c50')\"\n",
              "            title=\"Convert this dataframe to an interactive table.\"\n",
              "            style=\"display:none;\">\n",
              "\n",
              "  <svg xmlns=\"http://www.w3.org/2000/svg\" height=\"24px\" viewBox=\"0 -960 960 960\">\n",
              "    <path d=\"M120-120v-720h720v720H120Zm60-500h600v-160H180v160Zm220 220h160v-160H400v160Zm0 220h160v-160H400v160ZM180-400h160v-160H180v160Zm440 0h160v-160H620v160ZM180-180h160v-160H180v160Zm440 0h160v-160H620v160Z\"/>\n",
              "  </svg>\n",
              "    </button>\n",
              "\n",
              "  <style>\n",
              "    .colab-df-container {\n",
              "      display:flex;\n",
              "      gap: 12px;\n",
              "    }\n",
              "\n",
              "    .colab-df-convert {\n",
              "      background-color: #E8F0FE;\n",
              "      border: none;\n",
              "      border-radius: 50%;\n",
              "      cursor: pointer;\n",
              "      display: none;\n",
              "      fill: #1967D2;\n",
              "      height: 32px;\n",
              "      padding: 0 0 0 0;\n",
              "      width: 32px;\n",
              "    }\n",
              "\n",
              "    .colab-df-convert:hover {\n",
              "      background-color: #E2EBFA;\n",
              "      box-shadow: 0px 1px 2px rgba(60, 64, 67, 0.3), 0px 1px 3px 1px rgba(60, 64, 67, 0.15);\n",
              "      fill: #174EA6;\n",
              "    }\n",
              "\n",
              "    .colab-df-buttons div {\n",
              "      margin-bottom: 4px;\n",
              "    }\n",
              "\n",
              "    [theme=dark] .colab-df-convert {\n",
              "      background-color: #3B4455;\n",
              "      fill: #D2E3FC;\n",
              "    }\n",
              "\n",
              "    [theme=dark] .colab-df-convert:hover {\n",
              "      background-color: #434B5C;\n",
              "      box-shadow: 0px 1px 3px 1px rgba(0, 0, 0, 0.15);\n",
              "      filter: drop-shadow(0px 1px 2px rgba(0, 0, 0, 0.3));\n",
              "      fill: #FFFFFF;\n",
              "    }\n",
              "  </style>\n",
              "\n",
              "    <script>\n",
              "      const buttonEl =\n",
              "        document.querySelector('#df-066b0d50-d9d6-4b11-a9e0-49c2955c3c50 button.colab-df-convert');\n",
              "      buttonEl.style.display =\n",
              "        google.colab.kernel.accessAllowed ? 'block' : 'none';\n",
              "\n",
              "      async function convertToInteractive(key) {\n",
              "        const element = document.querySelector('#df-066b0d50-d9d6-4b11-a9e0-49c2955c3c50');\n",
              "        const dataTable =\n",
              "          await google.colab.kernel.invokeFunction('convertToInteractive',\n",
              "                                                    [key], {});\n",
              "        if (!dataTable) return;\n",
              "\n",
              "        const docLinkHtml = 'Like what you see? Visit the ' +\n",
              "          '<a target=\"_blank\" href=https://colab.research.google.com/notebooks/data_table.ipynb>data table notebook</a>'\n",
              "          + ' to learn more about interactive tables.';\n",
              "        element.innerHTML = '';\n",
              "        dataTable['output_type'] = 'display_data';\n",
              "        await google.colab.output.renderOutput(dataTable, element);\n",
              "        const docLink = document.createElement('div');\n",
              "        docLink.innerHTML = docLinkHtml;\n",
              "        element.appendChild(docLink);\n",
              "      }\n",
              "    </script>\n",
              "  </div>\n",
              "\n",
              "\n",
              "<div id=\"df-b2dfe80b-2b0c-49f3-a0fc-8be02c4ac590\">\n",
              "  <button class=\"colab-df-quickchart\" onclick=\"quickchart('df-b2dfe80b-2b0c-49f3-a0fc-8be02c4ac590')\"\n",
              "            title=\"Suggest charts\"\n",
              "            style=\"display:none;\">\n",
              "\n",
              "<svg xmlns=\"http://www.w3.org/2000/svg\" height=\"24px\"viewBox=\"0 0 24 24\"\n",
              "     width=\"24px\">\n",
              "    <g>\n",
              "        <path d=\"M19 3H5c-1.1 0-2 .9-2 2v14c0 1.1.9 2 2 2h14c1.1 0 2-.9 2-2V5c0-1.1-.9-2-2-2zM9 17H7v-7h2v7zm4 0h-2V7h2v10zm4 0h-2v-4h2v4z\"/>\n",
              "    </g>\n",
              "</svg>\n",
              "  </button>\n",
              "\n",
              "<style>\n",
              "  .colab-df-quickchart {\n",
              "      --bg-color: #E8F0FE;\n",
              "      --fill-color: #1967D2;\n",
              "      --hover-bg-color: #E2EBFA;\n",
              "      --hover-fill-color: #174EA6;\n",
              "      --disabled-fill-color: #AAA;\n",
              "      --disabled-bg-color: #DDD;\n",
              "  }\n",
              "\n",
              "  [theme=dark] .colab-df-quickchart {\n",
              "      --bg-color: #3B4455;\n",
              "      --fill-color: #D2E3FC;\n",
              "      --hover-bg-color: #434B5C;\n",
              "      --hover-fill-color: #FFFFFF;\n",
              "      --disabled-bg-color: #3B4455;\n",
              "      --disabled-fill-color: #666;\n",
              "  }\n",
              "\n",
              "  .colab-df-quickchart {\n",
              "    background-color: var(--bg-color);\n",
              "    border: none;\n",
              "    border-radius: 50%;\n",
              "    cursor: pointer;\n",
              "    display: none;\n",
              "    fill: var(--fill-color);\n",
              "    height: 32px;\n",
              "    padding: 0;\n",
              "    width: 32px;\n",
              "  }\n",
              "\n",
              "  .colab-df-quickchart:hover {\n",
              "    background-color: var(--hover-bg-color);\n",
              "    box-shadow: 0 1px 2px rgba(60, 64, 67, 0.3), 0 1px 3px 1px rgba(60, 64, 67, 0.15);\n",
              "    fill: var(--button-hover-fill-color);\n",
              "  }\n",
              "\n",
              "  .colab-df-quickchart-complete:disabled,\n",
              "  .colab-df-quickchart-complete:disabled:hover {\n",
              "    background-color: var(--disabled-bg-color);\n",
              "    fill: var(--disabled-fill-color);\n",
              "    box-shadow: none;\n",
              "  }\n",
              "\n",
              "  .colab-df-spinner {\n",
              "    border: 2px solid var(--fill-color);\n",
              "    border-color: transparent;\n",
              "    border-bottom-color: var(--fill-color);\n",
              "    animation:\n",
              "      spin 1s steps(1) infinite;\n",
              "  }\n",
              "\n",
              "  @keyframes spin {\n",
              "    0% {\n",
              "      border-color: transparent;\n",
              "      border-bottom-color: var(--fill-color);\n",
              "      border-left-color: var(--fill-color);\n",
              "    }\n",
              "    20% {\n",
              "      border-color: transparent;\n",
              "      border-left-color: var(--fill-color);\n",
              "      border-top-color: var(--fill-color);\n",
              "    }\n",
              "    30% {\n",
              "      border-color: transparent;\n",
              "      border-left-color: var(--fill-color);\n",
              "      border-top-color: var(--fill-color);\n",
              "      border-right-color: var(--fill-color);\n",
              "    }\n",
              "    40% {\n",
              "      border-color: transparent;\n",
              "      border-right-color: var(--fill-color);\n",
              "      border-top-color: var(--fill-color);\n",
              "    }\n",
              "    60% {\n",
              "      border-color: transparent;\n",
              "      border-right-color: var(--fill-color);\n",
              "    }\n",
              "    80% {\n",
              "      border-color: transparent;\n",
              "      border-right-color: var(--fill-color);\n",
              "      border-bottom-color: var(--fill-color);\n",
              "    }\n",
              "    90% {\n",
              "      border-color: transparent;\n",
              "      border-bottom-color: var(--fill-color);\n",
              "    }\n",
              "  }\n",
              "</style>\n",
              "\n",
              "  <script>\n",
              "    async function quickchart(key) {\n",
              "      const quickchartButtonEl =\n",
              "        document.querySelector('#' + key + ' button');\n",
              "      quickchartButtonEl.disabled = true;  // To prevent multiple clicks.\n",
              "      quickchartButtonEl.classList.add('colab-df-spinner');\n",
              "      try {\n",
              "        const charts = await google.colab.kernel.invokeFunction(\n",
              "            'suggestCharts', [key], {});\n",
              "      } catch (error) {\n",
              "        console.error('Error during call to suggestCharts:', error);\n",
              "      }\n",
              "      quickchartButtonEl.classList.remove('colab-df-spinner');\n",
              "      quickchartButtonEl.classList.add('colab-df-quickchart-complete');\n",
              "    }\n",
              "    (() => {\n",
              "      let quickchartButtonEl =\n",
              "        document.querySelector('#df-b2dfe80b-2b0c-49f3-a0fc-8be02c4ac590 button');\n",
              "      quickchartButtonEl.style.display =\n",
              "        google.colab.kernel.accessAllowed ? 'block' : 'none';\n",
              "    })();\n",
              "  </script>\n",
              "</div>\n",
              "\n",
              "  <div id=\"id_7ebf4cf0-2f86-41ef-a9db-d81ccdf4f865\">\n",
              "    <style>\n",
              "      .colab-df-generate {\n",
              "        background-color: #E8F0FE;\n",
              "        border: none;\n",
              "        border-radius: 50%;\n",
              "        cursor: pointer;\n",
              "        display: none;\n",
              "        fill: #1967D2;\n",
              "        height: 32px;\n",
              "        padding: 0 0 0 0;\n",
              "        width: 32px;\n",
              "      }\n",
              "\n",
              "      .colab-df-generate:hover {\n",
              "        background-color: #E2EBFA;\n",
              "        box-shadow: 0px 1px 2px rgba(60, 64, 67, 0.3), 0px 1px 3px 1px rgba(60, 64, 67, 0.15);\n",
              "        fill: #174EA6;\n",
              "      }\n",
              "\n",
              "      [theme=dark] .colab-df-generate {\n",
              "        background-color: #3B4455;\n",
              "        fill: #D2E3FC;\n",
              "      }\n",
              "\n",
              "      [theme=dark] .colab-df-generate:hover {\n",
              "        background-color: #434B5C;\n",
              "        box-shadow: 0px 1px 3px 1px rgba(0, 0, 0, 0.15);\n",
              "        filter: drop-shadow(0px 1px 2px rgba(0, 0, 0, 0.3));\n",
              "        fill: #FFFFFF;\n",
              "      }\n",
              "    </style>\n",
              "    <button class=\"colab-df-generate\" onclick=\"generateWithVariable('outliers_aluguel')\"\n",
              "            title=\"Generate code using this dataframe.\"\n",
              "            style=\"display:none;\">\n",
              "\n",
              "  <svg xmlns=\"http://www.w3.org/2000/svg\" height=\"24px\"viewBox=\"0 0 24 24\"\n",
              "       width=\"24px\">\n",
              "    <path d=\"M7,19H8.4L18.45,9,17,7.55,7,17.6ZM5,21V16.75L18.45,3.32a2,2,0,0,1,2.83,0l1.4,1.43a1.91,1.91,0,0,1,.58,1.4,1.91,1.91,0,0,1-.58,1.4L9.25,21ZM18.45,9,17,7.55Zm-12,3A5.31,5.31,0,0,0,4.9,8.1,5.31,5.31,0,0,0,1,6.5,5.31,5.31,0,0,0,4.9,4.9,5.31,5.31,0,0,0,6.5,1,5.31,5.31,0,0,0,8.1,4.9,5.31,5.31,0,0,0,12,6.5,5.46,5.46,0,0,0,6.5,12Z\"/>\n",
              "  </svg>\n",
              "    </button>\n",
              "    <script>\n",
              "      (() => {\n",
              "      const buttonEl =\n",
              "        document.querySelector('#id_7ebf4cf0-2f86-41ef-a9db-d81ccdf4f865 button.colab-df-generate');\n",
              "      buttonEl.style.display =\n",
              "        google.colab.kernel.accessAllowed ? 'block' : 'none';\n",
              "\n",
              "      buttonEl.onclick = () => {\n",
              "        google.colab.notebook.generateWithVariable('outliers_aluguel');\n",
              "      }\n",
              "      })();\n",
              "    </script>\n",
              "  </div>\n",
              "\n",
              "    </div>\n",
              "  </div>\n"
            ],
            "application/vnd.google.colaboratory.intrinsic+json": {
              "type": "dataframe",
              "variable_name": "outliers_aluguel",
              "summary": "{\n  \"name\": \"outliers_aluguel\",\n  \"rows\": 11,\n  \"fields\": [\n    {\n      \"column\": \"cidade\",\n      \"properties\": {\n        \"dtype\": \"category\",\n        \"num_unique_values\": 2,\n        \"samples\": [\n          \"Porto Alegre\",\n          \"S\\u00e3o Paulo\"\n        ],\n        \"semantic_type\": \"\",\n        \"description\": \"\"\n      }\n    },\n    {\n      \"column\": \"area\",\n      \"properties\": {\n        \"dtype\": \"number\",\n        \"std\": 175.99670979477386,\n        \"min\": 80.0,\n        \"max\": 687.8666666666667,\n        \"num_unique_values\": 11,\n        \"samples\": [\n          687.8666666666667,\n          651.9333333333333\n        ],\n        \"semantic_type\": \"\",\n        \"description\": \"\"\n      }\n    },\n    {\n      \"column\": \"quartos\",\n      \"properties\": {\n        \"dtype\": \"number\",\n        \"std\": 1,\n        \"min\": 2,\n        \"max\": 8,\n        \"num_unique_values\": 4,\n        \"samples\": [\n          3,\n          8\n        ],\n        \"semantic_type\": \"\",\n        \"description\": \"\"\n      }\n    },\n    {\n      \"column\": \"banheiros\",\n      \"properties\": {\n        \"dtype\": \"number\",\n        \"std\": 1,\n        \"min\": 1,\n        \"max\": 5,\n        \"num_unique_values\": 4,\n        \"samples\": [\n          3,\n          4\n        ],\n        \"semantic_type\": \"\",\n        \"description\": \"\"\n      }\n    },\n    {\n      \"column\": \"vagas_garagem\",\n      \"properties\": {\n        \"dtype\": \"number\",\n        \"std\": 2,\n        \"min\": 0,\n        \"max\": 8,\n        \"num_unique_values\": 8,\n        \"samples\": [\n          2,\n          4\n        ],\n        \"semantic_type\": \"\",\n        \"description\": \"\"\n      }\n    },\n    {\n      \"column\": \"andar\",\n      \"properties\": {\n        \"dtype\": \"number\",\n        \"std\": 5,\n        \"min\": 0,\n        \"max\": 14,\n        \"num_unique_values\": 5,\n        \"samples\": [\n          14,\n          5\n        ],\n        \"semantic_type\": \"\",\n        \"description\": \"\"\n      }\n    },\n    {\n      \"column\": \"aceita_animal\",\n      \"properties\": {\n        \"dtype\": \"number\",\n        \"std\": 0,\n        \"min\": 0,\n        \"max\": 1,\n        \"num_unique_values\": 2,\n        \"samples\": [\n          0,\n          1\n        ],\n        \"semantic_type\": \"\",\n        \"description\": \"\"\n      }\n    },\n    {\n      \"column\": \"mobiliaria\",\n      \"properties\": {\n        \"dtype\": \"number\",\n        \"std\": 0,\n        \"min\": 0,\n        \"max\": 1,\n        \"num_unique_values\": 2,\n        \"samples\": [\n          0,\n          1\n        ],\n        \"semantic_type\": \"\",\n        \"description\": \"\"\n      }\n    },\n    {\n      \"column\": \"valor_condominio\",\n      \"properties\": {\n        \"dtype\": \"number\",\n        \"std\": 2869,\n        \"min\": 0,\n        \"max\": 8500,\n        \"num_unique_values\": 7,\n        \"samples\": [\n          4800,\n          4300\n        ],\n        \"semantic_type\": \"\",\n        \"description\": \"\"\n      }\n    },\n    {\n      \"column\": \"valor_aluguel\",\n      \"properties\": {\n        \"dtype\": \"number\",\n        \"std\": 3875,\n        \"min\": 16000,\n        \"max\": 30000,\n        \"num_unique_values\": 8,\n        \"samples\": [\n          19000,\n          19500\n        ],\n        \"semantic_type\": \"\",\n        \"description\": \"\"\n      }\n    },\n    {\n      \"column\": \"valor_iptu\",\n      \"properties\": {\n        \"dtype\": \"number\",\n        \"std\": 1347,\n        \"min\": 0,\n        \"max\": 3813,\n        \"num_unique_values\": 9,\n        \"samples\": [\n          2200,\n          959\n        ],\n        \"semantic_type\": \"\",\n        \"description\": \"\"\n      }\n    },\n    {\n      \"column\": \"valor_seguro\",\n      \"properties\": {\n        \"dtype\": \"number\",\n        \"std\": 72,\n        \"min\": 203,\n        \"max\": 451,\n        \"num_unique_values\": 9,\n        \"samples\": [\n          376,\n          338\n        ],\n        \"semantic_type\": \"\",\n        \"description\": \"\"\n      }\n    },\n    {\n      \"column\": \"valor_total\",\n      \"properties\": {\n        \"dtype\": \"number\",\n        \"std\": 4067,\n        \"min\": 19720,\n        \"max\": 31580,\n        \"num_unique_values\": 11,\n        \"samples\": [\n          24110,\n          26800\n        ],\n        \"semantic_type\": \"\",\n        \"description\": \"\"\n      }\n    }\n  ]\n}"
            }
          },
          "metadata": {},
          "execution_count": 14
        }
      ]
    },
    {
      "cell_type": "code",
      "source": [
        "# Substituindo os outliers por valores um pouco maiores que o percentil 99, mas colocando uma ordem entre eles, para que o ajuste seja fiel ao dado real\n",
        "outlier_aluguel_replacement_values = list(np.linspace(percent_99_aluguel + 1, percent_99_aluguel + 30, num=df['valor_aluguel'][df['valor_aluguel'] > percent_99_aluguel].count()))\n",
        "# Verificando se a quantidade de outliers trocados são exatamente iguais ao de outliers contados na célula de cima\n",
        "len(outlier_aluguel_replacement_values)"
      ],
      "metadata": {
        "colab": {
          "base_uri": "https://localhost:8080/"
        },
        "id": "wSn2PAaCvSJu",
        "outputId": "33b2031c-7077-4e5d-e76c-fea51a628665"
      },
      "execution_count": 15,
      "outputs": [
        {
          "output_type": "execute_result",
          "data": {
            "text/plain": [
              "11"
            ]
          },
          "metadata": {},
          "execution_count": 15
        }
      ]
    },
    {
      "cell_type": "code",
      "source": [
        "# Esse é o nosso array dos outliers ajustados na nossa escala\n",
        "outlier_aluguel_replacement_values"
      ],
      "metadata": {
        "colab": {
          "base_uri": "https://localhost:8080/"
        },
        "id": "9kcHtfevvSEB",
        "outputId": "317a59e0-c139-4310-8e6a-47746a2dd2ca"
      },
      "execution_count": 16,
      "outputs": [
        {
          "output_type": "execute_result",
          "data": {
            "text/plain": [
              "[15001.0,\n",
              " 15003.9,\n",
              " 15006.8,\n",
              " 15009.7,\n",
              " 15012.6,\n",
              " 15015.5,\n",
              " 15018.4,\n",
              " 15021.3,\n",
              " 15024.2,\n",
              " 15027.1,\n",
              " 15030.0]"
            ]
          },
          "metadata": {},
          "execution_count": 16
        }
      ]
    },
    {
      "cell_type": "code",
      "source": [
        "df_sorted = df.sort_values(by='valor_aluguel')\n",
        "outlier_indices = df_sorted['valor_aluguel'] > percent_99_aluguel\n",
        "\n",
        "# Substituir os outliers na ordem correta\n",
        "for i, idx in enumerate(df_sorted.index[outlier_indices]):\n",
        "    df_sorted.at[idx, 'valor_aluguel'] = outlier_aluguel_replacement_values[i]\n",
        "print(df_sorted[df_sorted['valor_aluguel'] > percent_99_aluguel])"
      ],
      "metadata": {
        "colab": {
          "base_uri": "https://localhost:8080/"
        },
        "id": "ZnG7Gm-gvR81",
        "outputId": "fa2ee96b-6d0b-46d8-cc53-5e490415e2dd"
      },
      "execution_count": 17,
      "outputs": [
        {
          "output_type": "stream",
          "name": "stdout",
          "text": [
            "            cidade        area  quartos  banheiros  vagas_garagem  andar  \\\n",
            "6115     São Paulo  240.000000        4          4              4      5   \n",
            "5738     São Paulo  303.000000        3          4              4      1   \n",
            "2520  Porto Alegre  318.000000        4          3              0      0   \n",
            "6182     São Paulo  455.000000        4          5              4      5   \n",
            "1743     São Paulo  410.000000        4          5              5      1   \n",
            "1253     São Paulo  315.000000        3          5              2     14   \n",
            "157      São Paulo  651.933333        4          5              5     12   \n",
            "5522     São Paulo  687.866667        3          4              8      0   \n",
            "2618     São Paulo   80.000000        2          1              1      1   \n",
            "6942     São Paulo  486.000000        8          4              6      0   \n",
            "7742     São Paulo  350.000000        3          3              3      0   \n",
            "\n",
            "      aceita_animal  mobiliaria  valor_condominio  valor_aluguel  valor_iptu  \\\n",
            "6115              1           0              2700        15001.0        1667   \n",
            "5738              1           1              4540        15003.9           0   \n",
            "2520              1           0                 0        15006.8         384   \n",
            "6182              1           0              8500        15009.7        3334   \n",
            "1743              1           0                 0        15012.6           0   \n",
            "1253              0           0              4300        15015.5         959   \n",
            "157               1           1              4800        15018.4        1750   \n",
            "5522              1           0                 0        15021.3        3813   \n",
            "2618              1           0               875        15024.2           0   \n",
            "6942              1           0                 0        15027.1        2200   \n",
            "7742              1           0                 0        15030.0         560   \n",
            "\n",
            "      valor_seguro  valor_total  \n",
            "6115           203        20570  \n",
            "5738           229        22770  \n",
            "2520           338        19720  \n",
            "6182           248        31580  \n",
            "1743           254        20250  \n",
            "1253           254        25510  \n",
            "157            254        26800  \n",
            "5522           301        24110  \n",
            "2618           305        25180  \n",
            "6942           376        27580  \n",
            "7742           451        31010  \n"
          ]
        }
      ]
    },
    {
      "cell_type": "code",
      "source": [
        "df['valor_aluguel'] = df_sorted['valor_aluguel']\n",
        "df.head()"
      ],
      "metadata": {
        "colab": {
          "base_uri": "https://localhost:8080/",
          "height": 206
        },
        "id": "rDiW_eWlvR2X",
        "outputId": "aca7b151-7b01-49d3-99a8-1551c1926ff0"
      },
      "execution_count": 18,
      "outputs": [
        {
          "output_type": "execute_result",
          "data": {
            "text/plain": [
              "         cidade   area  quartos  banheiros  vagas_garagem  andar  \\\n",
              "0     São Paulo   70.0        2          1              1      7   \n",
              "1     São Paulo  320.0        4          4              0     20   \n",
              "2  Porto Alegre   80.0        1          1              1      6   \n",
              "3  Porto Alegre   51.0        2          1              0      2   \n",
              "4     São Paulo   25.0        1          1              0      1   \n",
              "\n",
              "   aceita_animal  mobiliaria  valor_condominio  valor_aluguel  valor_iptu  \\\n",
              "0              1           1              2065         3300.0         211   \n",
              "1              1           0              1200         4960.0        1750   \n",
              "2              1           0              1000         2800.0           0   \n",
              "3              1           0               270         1112.0          22   \n",
              "4              0           0                 0          800.0          25   \n",
              "\n",
              "   valor_seguro  valor_total  \n",
              "0            42         5618  \n",
              "1            63         7973  \n",
              "2            41         3841  \n",
              "3            17         1421  \n",
              "4            11          836  "
            ],
            "text/html": [
              "\n",
              "  <div id=\"df-3ba4e16c-6dd4-4e4d-be7b-d7d4793dee7f\" class=\"colab-df-container\">\n",
              "    <div>\n",
              "<style scoped>\n",
              "    .dataframe tbody tr th:only-of-type {\n",
              "        vertical-align: middle;\n",
              "    }\n",
              "\n",
              "    .dataframe tbody tr th {\n",
              "        vertical-align: top;\n",
              "    }\n",
              "\n",
              "    .dataframe thead th {\n",
              "        text-align: right;\n",
              "    }\n",
              "</style>\n",
              "<table border=\"1\" class=\"dataframe\">\n",
              "  <thead>\n",
              "    <tr style=\"text-align: right;\">\n",
              "      <th></th>\n",
              "      <th>cidade</th>\n",
              "      <th>area</th>\n",
              "      <th>quartos</th>\n",
              "      <th>banheiros</th>\n",
              "      <th>vagas_garagem</th>\n",
              "      <th>andar</th>\n",
              "      <th>aceita_animal</th>\n",
              "      <th>mobiliaria</th>\n",
              "      <th>valor_condominio</th>\n",
              "      <th>valor_aluguel</th>\n",
              "      <th>valor_iptu</th>\n",
              "      <th>valor_seguro</th>\n",
              "      <th>valor_total</th>\n",
              "    </tr>\n",
              "  </thead>\n",
              "  <tbody>\n",
              "    <tr>\n",
              "      <th>0</th>\n",
              "      <td>São Paulo</td>\n",
              "      <td>70.0</td>\n",
              "      <td>2</td>\n",
              "      <td>1</td>\n",
              "      <td>1</td>\n",
              "      <td>7</td>\n",
              "      <td>1</td>\n",
              "      <td>1</td>\n",
              "      <td>2065</td>\n",
              "      <td>3300.0</td>\n",
              "      <td>211</td>\n",
              "      <td>42</td>\n",
              "      <td>5618</td>\n",
              "    </tr>\n",
              "    <tr>\n",
              "      <th>1</th>\n",
              "      <td>São Paulo</td>\n",
              "      <td>320.0</td>\n",
              "      <td>4</td>\n",
              "      <td>4</td>\n",
              "      <td>0</td>\n",
              "      <td>20</td>\n",
              "      <td>1</td>\n",
              "      <td>0</td>\n",
              "      <td>1200</td>\n",
              "      <td>4960.0</td>\n",
              "      <td>1750</td>\n",
              "      <td>63</td>\n",
              "      <td>7973</td>\n",
              "    </tr>\n",
              "    <tr>\n",
              "      <th>2</th>\n",
              "      <td>Porto Alegre</td>\n",
              "      <td>80.0</td>\n",
              "      <td>1</td>\n",
              "      <td>1</td>\n",
              "      <td>1</td>\n",
              "      <td>6</td>\n",
              "      <td>1</td>\n",
              "      <td>0</td>\n",
              "      <td>1000</td>\n",
              "      <td>2800.0</td>\n",
              "      <td>0</td>\n",
              "      <td>41</td>\n",
              "      <td>3841</td>\n",
              "    </tr>\n",
              "    <tr>\n",
              "      <th>3</th>\n",
              "      <td>Porto Alegre</td>\n",
              "      <td>51.0</td>\n",
              "      <td>2</td>\n",
              "      <td>1</td>\n",
              "      <td>0</td>\n",
              "      <td>2</td>\n",
              "      <td>1</td>\n",
              "      <td>0</td>\n",
              "      <td>270</td>\n",
              "      <td>1112.0</td>\n",
              "      <td>22</td>\n",
              "      <td>17</td>\n",
              "      <td>1421</td>\n",
              "    </tr>\n",
              "    <tr>\n",
              "      <th>4</th>\n",
              "      <td>São Paulo</td>\n",
              "      <td>25.0</td>\n",
              "      <td>1</td>\n",
              "      <td>1</td>\n",
              "      <td>0</td>\n",
              "      <td>1</td>\n",
              "      <td>0</td>\n",
              "      <td>0</td>\n",
              "      <td>0</td>\n",
              "      <td>800.0</td>\n",
              "      <td>25</td>\n",
              "      <td>11</td>\n",
              "      <td>836</td>\n",
              "    </tr>\n",
              "  </tbody>\n",
              "</table>\n",
              "</div>\n",
              "    <div class=\"colab-df-buttons\">\n",
              "\n",
              "  <div class=\"colab-df-container\">\n",
              "    <button class=\"colab-df-convert\" onclick=\"convertToInteractive('df-3ba4e16c-6dd4-4e4d-be7b-d7d4793dee7f')\"\n",
              "            title=\"Convert this dataframe to an interactive table.\"\n",
              "            style=\"display:none;\">\n",
              "\n",
              "  <svg xmlns=\"http://www.w3.org/2000/svg\" height=\"24px\" viewBox=\"0 -960 960 960\">\n",
              "    <path d=\"M120-120v-720h720v720H120Zm60-500h600v-160H180v160Zm220 220h160v-160H400v160Zm0 220h160v-160H400v160ZM180-400h160v-160H180v160Zm440 0h160v-160H620v160ZM180-180h160v-160H180v160Zm440 0h160v-160H620v160Z\"/>\n",
              "  </svg>\n",
              "    </button>\n",
              "\n",
              "  <style>\n",
              "    .colab-df-container {\n",
              "      display:flex;\n",
              "      gap: 12px;\n",
              "    }\n",
              "\n",
              "    .colab-df-convert {\n",
              "      background-color: #E8F0FE;\n",
              "      border: none;\n",
              "      border-radius: 50%;\n",
              "      cursor: pointer;\n",
              "      display: none;\n",
              "      fill: #1967D2;\n",
              "      height: 32px;\n",
              "      padding: 0 0 0 0;\n",
              "      width: 32px;\n",
              "    }\n",
              "\n",
              "    .colab-df-convert:hover {\n",
              "      background-color: #E2EBFA;\n",
              "      box-shadow: 0px 1px 2px rgba(60, 64, 67, 0.3), 0px 1px 3px 1px rgba(60, 64, 67, 0.15);\n",
              "      fill: #174EA6;\n",
              "    }\n",
              "\n",
              "    .colab-df-buttons div {\n",
              "      margin-bottom: 4px;\n",
              "    }\n",
              "\n",
              "    [theme=dark] .colab-df-convert {\n",
              "      background-color: #3B4455;\n",
              "      fill: #D2E3FC;\n",
              "    }\n",
              "\n",
              "    [theme=dark] .colab-df-convert:hover {\n",
              "      background-color: #434B5C;\n",
              "      box-shadow: 0px 1px 3px 1px rgba(0, 0, 0, 0.15);\n",
              "      filter: drop-shadow(0px 1px 2px rgba(0, 0, 0, 0.3));\n",
              "      fill: #FFFFFF;\n",
              "    }\n",
              "  </style>\n",
              "\n",
              "    <script>\n",
              "      const buttonEl =\n",
              "        document.querySelector('#df-3ba4e16c-6dd4-4e4d-be7b-d7d4793dee7f button.colab-df-convert');\n",
              "      buttonEl.style.display =\n",
              "        google.colab.kernel.accessAllowed ? 'block' : 'none';\n",
              "\n",
              "      async function convertToInteractive(key) {\n",
              "        const element = document.querySelector('#df-3ba4e16c-6dd4-4e4d-be7b-d7d4793dee7f');\n",
              "        const dataTable =\n",
              "          await google.colab.kernel.invokeFunction('convertToInteractive',\n",
              "                                                    [key], {});\n",
              "        if (!dataTable) return;\n",
              "\n",
              "        const docLinkHtml = 'Like what you see? Visit the ' +\n",
              "          '<a target=\"_blank\" href=https://colab.research.google.com/notebooks/data_table.ipynb>data table notebook</a>'\n",
              "          + ' to learn more about interactive tables.';\n",
              "        element.innerHTML = '';\n",
              "        dataTable['output_type'] = 'display_data';\n",
              "        await google.colab.output.renderOutput(dataTable, element);\n",
              "        const docLink = document.createElement('div');\n",
              "        docLink.innerHTML = docLinkHtml;\n",
              "        element.appendChild(docLink);\n",
              "      }\n",
              "    </script>\n",
              "  </div>\n",
              "\n",
              "\n",
              "<div id=\"df-42b903e9-779c-4f41-bf2c-0a50d09bd2c8\">\n",
              "  <button class=\"colab-df-quickchart\" onclick=\"quickchart('df-42b903e9-779c-4f41-bf2c-0a50d09bd2c8')\"\n",
              "            title=\"Suggest charts\"\n",
              "            style=\"display:none;\">\n",
              "\n",
              "<svg xmlns=\"http://www.w3.org/2000/svg\" height=\"24px\"viewBox=\"0 0 24 24\"\n",
              "     width=\"24px\">\n",
              "    <g>\n",
              "        <path d=\"M19 3H5c-1.1 0-2 .9-2 2v14c0 1.1.9 2 2 2h14c1.1 0 2-.9 2-2V5c0-1.1-.9-2-2-2zM9 17H7v-7h2v7zm4 0h-2V7h2v10zm4 0h-2v-4h2v4z\"/>\n",
              "    </g>\n",
              "</svg>\n",
              "  </button>\n",
              "\n",
              "<style>\n",
              "  .colab-df-quickchart {\n",
              "      --bg-color: #E8F0FE;\n",
              "      --fill-color: #1967D2;\n",
              "      --hover-bg-color: #E2EBFA;\n",
              "      --hover-fill-color: #174EA6;\n",
              "      --disabled-fill-color: #AAA;\n",
              "      --disabled-bg-color: #DDD;\n",
              "  }\n",
              "\n",
              "  [theme=dark] .colab-df-quickchart {\n",
              "      --bg-color: #3B4455;\n",
              "      --fill-color: #D2E3FC;\n",
              "      --hover-bg-color: #434B5C;\n",
              "      --hover-fill-color: #FFFFFF;\n",
              "      --disabled-bg-color: #3B4455;\n",
              "      --disabled-fill-color: #666;\n",
              "  }\n",
              "\n",
              "  .colab-df-quickchart {\n",
              "    background-color: var(--bg-color);\n",
              "    border: none;\n",
              "    border-radius: 50%;\n",
              "    cursor: pointer;\n",
              "    display: none;\n",
              "    fill: var(--fill-color);\n",
              "    height: 32px;\n",
              "    padding: 0;\n",
              "    width: 32px;\n",
              "  }\n",
              "\n",
              "  .colab-df-quickchart:hover {\n",
              "    background-color: var(--hover-bg-color);\n",
              "    box-shadow: 0 1px 2px rgba(60, 64, 67, 0.3), 0 1px 3px 1px rgba(60, 64, 67, 0.15);\n",
              "    fill: var(--button-hover-fill-color);\n",
              "  }\n",
              "\n",
              "  .colab-df-quickchart-complete:disabled,\n",
              "  .colab-df-quickchart-complete:disabled:hover {\n",
              "    background-color: var(--disabled-bg-color);\n",
              "    fill: var(--disabled-fill-color);\n",
              "    box-shadow: none;\n",
              "  }\n",
              "\n",
              "  .colab-df-spinner {\n",
              "    border: 2px solid var(--fill-color);\n",
              "    border-color: transparent;\n",
              "    border-bottom-color: var(--fill-color);\n",
              "    animation:\n",
              "      spin 1s steps(1) infinite;\n",
              "  }\n",
              "\n",
              "  @keyframes spin {\n",
              "    0% {\n",
              "      border-color: transparent;\n",
              "      border-bottom-color: var(--fill-color);\n",
              "      border-left-color: var(--fill-color);\n",
              "    }\n",
              "    20% {\n",
              "      border-color: transparent;\n",
              "      border-left-color: var(--fill-color);\n",
              "      border-top-color: var(--fill-color);\n",
              "    }\n",
              "    30% {\n",
              "      border-color: transparent;\n",
              "      border-left-color: var(--fill-color);\n",
              "      border-top-color: var(--fill-color);\n",
              "      border-right-color: var(--fill-color);\n",
              "    }\n",
              "    40% {\n",
              "      border-color: transparent;\n",
              "      border-right-color: var(--fill-color);\n",
              "      border-top-color: var(--fill-color);\n",
              "    }\n",
              "    60% {\n",
              "      border-color: transparent;\n",
              "      border-right-color: var(--fill-color);\n",
              "    }\n",
              "    80% {\n",
              "      border-color: transparent;\n",
              "      border-right-color: var(--fill-color);\n",
              "      border-bottom-color: var(--fill-color);\n",
              "    }\n",
              "    90% {\n",
              "      border-color: transparent;\n",
              "      border-bottom-color: var(--fill-color);\n",
              "    }\n",
              "  }\n",
              "</style>\n",
              "\n",
              "  <script>\n",
              "    async function quickchart(key) {\n",
              "      const quickchartButtonEl =\n",
              "        document.querySelector('#' + key + ' button');\n",
              "      quickchartButtonEl.disabled = true;  // To prevent multiple clicks.\n",
              "      quickchartButtonEl.classList.add('colab-df-spinner');\n",
              "      try {\n",
              "        const charts = await google.colab.kernel.invokeFunction(\n",
              "            'suggestCharts', [key], {});\n",
              "      } catch (error) {\n",
              "        console.error('Error during call to suggestCharts:', error);\n",
              "      }\n",
              "      quickchartButtonEl.classList.remove('colab-df-spinner');\n",
              "      quickchartButtonEl.classList.add('colab-df-quickchart-complete');\n",
              "    }\n",
              "    (() => {\n",
              "      let quickchartButtonEl =\n",
              "        document.querySelector('#df-42b903e9-779c-4f41-bf2c-0a50d09bd2c8 button');\n",
              "      quickchartButtonEl.style.display =\n",
              "        google.colab.kernel.accessAllowed ? 'block' : 'none';\n",
              "    })();\n",
              "  </script>\n",
              "</div>\n",
              "\n",
              "    </div>\n",
              "  </div>\n"
            ],
            "application/vnd.google.colaboratory.intrinsic+json": {
              "type": "dataframe",
              "variable_name": "df",
              "summary": "{\n  \"name\": \"df\",\n  \"rows\": 10685,\n  \"fields\": [\n    {\n      \"column\": \"cidade\",\n      \"properties\": {\n        \"dtype\": \"category\",\n        \"num_unique_values\": 5,\n        \"samples\": [\n          \"Porto Alegre\",\n          \"Belo Horizonte\",\n          \"Rio de Janeiro\"\n        ],\n        \"semantic_type\": \"\",\n        \"description\": \"\"\n      }\n    },\n    {\n      \"column\": \"area\",\n      \"properties\": {\n        \"dtype\": \"number\",\n        \"std\": 124.9336207866312,\n        \"min\": 11.0,\n        \"max\": 700.0,\n        \"num_unique_values\": 582,\n        \"samples\": [\n          686.4666666666667,\n          211.0,\n          83.0\n        ],\n        \"semantic_type\": \"\",\n        \"description\": \"\"\n      }\n    },\n    {\n      \"column\": \"quartos\",\n      \"properties\": {\n        \"dtype\": \"number\",\n        \"std\": 1,\n        \"min\": 1,\n        \"max\": 13,\n        \"num_unique_values\": 11,\n        \"samples\": [\n          5,\n          2,\n          13\n        ],\n        \"semantic_type\": \"\",\n        \"description\": \"\"\n      }\n    },\n    {\n      \"column\": \"banheiros\",\n      \"properties\": {\n        \"dtype\": \"number\",\n        \"std\": 1,\n        \"min\": 1,\n        \"max\": 10,\n        \"num_unique_values\": 10,\n        \"samples\": [\n          8,\n          4,\n          5\n        ],\n        \"semantic_type\": \"\",\n        \"description\": \"\"\n      }\n    },\n    {\n      \"column\": \"vagas_garagem\",\n      \"properties\": {\n        \"dtype\": \"number\",\n        \"std\": 1,\n        \"min\": 0,\n        \"max\": 12,\n        \"num_unique_values\": 11,\n        \"samples\": [\n          6,\n          1,\n          10\n        ],\n        \"semantic_type\": \"\",\n        \"description\": \"\"\n      }\n    },\n    {\n      \"column\": \"andar\",\n      \"properties\": {\n        \"dtype\": \"number\",\n        \"std\": 5,\n        \"min\": 0,\n        \"max\": 51,\n        \"num_unique_values\": 35,\n        \"samples\": [\n          23,\n          17,\n          22\n        ],\n        \"semantic_type\": \"\",\n        \"description\": \"\"\n      }\n    },\n    {\n      \"column\": \"aceita_animal\",\n      \"properties\": {\n        \"dtype\": \"number\",\n        \"std\": 0,\n        \"min\": 0,\n        \"max\": 1,\n        \"num_unique_values\": 2,\n        \"samples\": [\n          0,\n          1\n        ],\n        \"semantic_type\": \"\",\n        \"description\": \"\"\n      }\n    },\n    {\n      \"column\": \"mobiliaria\",\n      \"properties\": {\n        \"dtype\": \"number\",\n        \"std\": 0,\n        \"min\": 0,\n        \"max\": 1,\n        \"num_unique_values\": 2,\n        \"samples\": [\n          0,\n          1\n        ],\n        \"semantic_type\": \"\",\n        \"description\": \"\"\n      }\n    },\n    {\n      \"column\": \"valor_condominio\",\n      \"properties\": {\n        \"dtype\": \"number\",\n        \"std\": 1166,\n        \"min\": 0,\n        \"max\": 32000,\n        \"num_unique_values\": 1675,\n        \"samples\": [\n          2128,\n          8362\n        ],\n        \"semantic_type\": \"\",\n        \"description\": \"\"\n      }\n    },\n    {\n      \"column\": \"valor_aluguel\",\n      \"properties\": {\n        \"dtype\": \"number\",\n        \"std\": 3353.6680081771997,\n        \"min\": 450.0,\n        \"max\": 15030.0,\n        \"num_unique_values\": 1197,\n        \"samples\": [\n          971.0,\n          8600.0\n        ],\n        \"semantic_type\": \"\",\n        \"description\": \"\"\n      }\n    },\n    {\n      \"column\": \"valor_iptu\",\n      \"properties\": {\n        \"dtype\": \"number\",\n        \"std\": 677,\n        \"min\": 0,\n        \"max\": 28120,\n        \"num_unique_values\": 1241,\n        \"samples\": [\n          1006,\n          1167\n        ],\n        \"semantic_type\": \"\",\n        \"description\": \"\"\n      }\n    },\n    {\n      \"column\": \"valor_seguro\",\n      \"properties\": {\n        \"dtype\": \"number\",\n        \"std\": 47,\n        \"min\": 3,\n        \"max\": 451,\n        \"num_unique_values\": 215,\n        \"samples\": [\n          184,\n          3\n        ],\n        \"semantic_type\": \"\",\n        \"description\": \"\"\n      }\n    },\n    {\n      \"column\": \"valor_total\",\n      \"properties\": {\n        \"dtype\": \"number\",\n        \"std\": 4473,\n        \"min\": 499,\n        \"max\": 32750,\n        \"num_unique_values\": 5745,\n        \"samples\": [\n          1049,\n          4297\n        ],\n        \"semantic_type\": \"\",\n        \"description\": \"\"\n      }\n    }\n  ]\n}"
            }
          },
          "metadata": {},
          "execution_count": 18
        }
      ]
    },
    {
      "cell_type": "markdown",
      "source": [
        "### Olhando nosso gráfico após as transformações"
      ],
      "metadata": {
        "id": "0L6a9S4NxqgM"
      }
    },
    {
      "cell_type": "code",
      "source": [
        "sns.scatterplot(x = 'area', y = 'valor_aluguel', data=df)"
      ],
      "metadata": {
        "colab": {
          "base_uri": "https://localhost:8080/",
          "height": 466
        },
        "id": "yPx6VCC-xtmb",
        "outputId": "c25da0cc-ca60-4800-df36-fc51dae33f71"
      },
      "execution_count": 19,
      "outputs": [
        {
          "output_type": "execute_result",
          "data": {
            "text/plain": [
              "<Axes: xlabel='area', ylabel='valor_aluguel'>"
            ]
          },
          "metadata": {},
          "execution_count": 19
        },
        {
          "output_type": "display_data",
          "data": {
            "text/plain": [
              "<Figure size 640x480 with 1 Axes>"
            ],
            "image/png": "[encoded data removed]"
          },
          "metadata": {}
        }
      ]
    },
    {
      "cell_type": "markdown",
      "source": [
        "## Normalizando os dados para que o modelo possa compreender melhor a distribuição e não seja influenciado pelas grandezas entre 11 - 700. Se colocarmos em uma escala entre 0 e 1, o modelo terá mais facilidade para compreender a distribuição"
      ],
      "metadata": {
        "id": "pA6hxwWREK5o"
      }
    },
    {
      "cell_type": "code",
      "source": [
        "df_norm = df.copy()\n",
        "# Pegando as colunas que desejamos normalizar\n",
        "columns_to_normalize = ['area', 'valor_aluguel']\n",
        "\n",
        "# Instanciando o nosso MinMaxScaler\n",
        "scaler = MinMaxScaler()\n",
        "\n",
        "# Normalizando as colunas que desejamos\n",
        "df_norm[columns_to_normalize] = scaler.fit_transform(df_norm[columns_to_normalize])\n",
        "\n",
        "df_norm['area'].head()"
      ],
      "metadata": {
        "colab": {
          "base_uri": "https://localhost:8080/"
        },
        "id": "gFt1R2yoYYZr",
        "outputId": "e4fc40ac-1c6f-4404-a84d-22d2ad6f970b"
      },
      "execution_count": 20,
      "outputs": [
        {
          "output_type": "execute_result",
          "data": {
            "text/plain": [
              "0    0.085631\n",
              "1    0.448476\n",
              "2    0.100145\n",
              "3    0.058055\n",
              "4    0.020319\n",
              "Name: area, dtype: float64"
            ]
          },
          "metadata": {},
          "execution_count": 20
        }
      ]
    },
    {
      "cell_type": "code",
      "source": [
        "df_norm['valor_aluguel'].head()"
      ],
      "metadata": {
        "colab": {
          "base_uri": "https://localhost:8080/"
        },
        "id": "qXpwdbfMZL9T",
        "outputId": "3be7aea3-1e10-4491-ee31-51be81ae96a5"
      },
      "execution_count": 21,
      "outputs": [
        {
          "output_type": "execute_result",
          "data": {
            "text/plain": [
              "0    0.195473\n",
              "1    0.309328\n",
              "2    0.161180\n",
              "3    0.045405\n",
              "4    0.024005\n",
              "Name: valor_aluguel, dtype: float64"
            ]
          },
          "metadata": {},
          "execution_count": 21
        }
      ]
    },
    {
      "cell_type": "code",
      "source": [
        "sns.scatterplot(x = 'area', y = 'valor_aluguel', data=df_norm)"
      ],
      "metadata": {
        "colab": {
          "base_uri": "https://localhost:8080/",
          "height": 466
        },
        "id": "pvlSH9yuEb6s",
        "outputId": "23a9c4bb-4dd7-40d8-d811-518e9b5c07d5"
      },
      "execution_count": 22,
      "outputs": [
        {
          "output_type": "execute_result",
          "data": {
            "text/plain": [
              "<Axes: xlabel='area', ylabel='valor_aluguel'>"
            ]
          },
          "metadata": {},
          "execution_count": 22
        },
        {
          "output_type": "display_data",
          "data": {
            "text/plain": [
              "<Figure size 640x480 with 1 Axes>"
            ],
            "image/png": "[encoded data removed]"
          },
          "metadata": {}
        }
      ]
    },
    {
      "cell_type": "code",
      "source": [
        "X = df_norm['area']\n",
        "y = df_norm['valor_aluguel']"
      ],
      "metadata": {
        "id": "ZPDohhB0Uhl_"
      },
      "execution_count": 23,
      "outputs": []
    },
    {
      "cell_type": "code",
      "source": [
        "X"
      ],
      "metadata": {
        "colab": {
          "base_uri": "https://localhost:8080/"
        },
        "id": "s9OJj39iVdVc",
        "outputId": "0043d2ea-7405-450a-ec2c-ee798583e74d"
      },
      "execution_count": 24,
      "outputs": [
        {
          "output_type": "execute_result",
          "data": {
            "text/plain": [
              "0        0.085631\n",
              "1        0.448476\n",
              "2        0.100145\n",
              "3        0.058055\n",
              "4        0.020319\n",
              "           ...   \n",
              "10680    0.075472\n",
              "10681    0.397678\n",
              "10682    0.085631\n",
              "10683    0.158200\n",
              "10684    0.100145\n",
              "Name: area, Length: 10685, dtype: float64"
            ]
          },
          "metadata": {},
          "execution_count": 24
        }
      ]
    },
    {
      "cell_type": "code",
      "source": [
        "y"
      ],
      "metadata": {
        "colab": {
          "base_uri": "https://localhost:8080/"
        },
        "id": "RkqLkhdBVdwN",
        "outputId": "952830cc-78f3-4b4b-fba5-acad0b3380ed"
      },
      "execution_count": 25,
      "outputs": [
        {
          "output_type": "execute_result",
          "data": {
            "text/plain": [
              "0        0.195473\n",
              "1        0.309328\n",
              "2        0.161180\n",
              "3        0.045405\n",
              "4        0.024005\n",
              "           ...   \n",
              "10680    0.070508\n",
              "10681    0.997942\n",
              "10682    0.380658\n",
              "10683    0.792181\n",
              "10684    0.065158\n",
              "Name: valor_aluguel, Length: 10685, dtype: float64"
            ]
          },
          "metadata": {},
          "execution_count": 25
        }
      ]
    },
    {
      "cell_type": "markdown",
      "source": [
        "# **Dividindo o conjunto de dados em treino / teste e efetuando o treinamento do modelo**"
      ],
      "metadata": {
        "id": "LS42IXzaJMc2"
      }
    },
    {
      "cell_type": "code",
      "source": [
        "X_train, X_test , y_train, y_test = train_test_split(X , y , test_size = 0.25)"
      ],
      "metadata": {
        "id": "8oY2o0ItWB74"
      },
      "execution_count": 26,
      "outputs": []
    },
    {
      "cell_type": "code",
      "source": [
        "X_train = X_train.to_numpy()\n",
        "X_train = X_train.reshape(-1,1)"
      ],
      "metadata": {
        "id": "GtaYh1gSHu68"
      },
      "execution_count": 27,
      "outputs": []
    },
    {
      "cell_type": "code",
      "source": [
        "regression = LinearRegression()\n",
        "regression.fit(X_train, y_train)"
      ],
      "metadata": {
        "colab": {
          "base_uri": "https://localhost:8080/",
          "height": 75
        },
        "id": "VLNUVF0TXJUA",
        "outputId": "def9a168-a1a6-4b6c-9422-a2a5c401168c"
      },
      "execution_count": 28,
      "outputs": [
        {
          "output_type": "execute_result",
          "data": {
            "text/plain": [
              "LinearRegression()"
            ],
            "text/html": [
              "<style>#sk-container-id-1 {color: black;background-color: white;}#sk-container-id-1 pre{padding: 0;}#sk-container-id-1 div.sk-toggleable {background-color: white;}#sk-container-id-1 label.sk-toggleable__label {cursor: pointer;display: block;width: 100%;margin-bottom: 0;padding: 0.3em;box-sizing: border-box;text-align: center;}#sk-container-id-1 label.sk-toggleable__label-arrow:before {content: \"▸\";float: left;margin-right: 0.25em;color: #696969;}#sk-container-id-1 label.sk-toggleable__label-arrow:hover:before {color: black;}#sk-container-id-1 div.sk-estimator:hover label.sk-toggleable__label-arrow:before {color: black;}#sk-container-id-1 div.sk-toggleable__content {max-height: 0;max-width: 0;overflow: hidden;text-align: left;background-color: #f0f8ff;}#sk-container-id-1 div.sk-toggleable__content pre {margin: 0.2em;color: black;border-radius: 0.25em;background-color: #f0f8ff;}#sk-container-id-1 input.sk-toggleable__control:checked~div.sk-toggleable__content {max-height: 200px;max-width: 100%;overflow: auto;}#sk-container-id-1 input.sk-toggleable__control:checked~label.sk-toggleable__label-arrow:before {content: \"▾\";}#sk-container-id-1 div.sk-estimator input.sk-toggleable__control:checked~label.sk-toggleable__label {background-color: #d4ebff;}#sk-container-id-1 div.sk-label input.sk-toggleable__control:checked~label.sk-toggleable__label {background-color: #d4ebff;}#sk-container-id-1 input.sk-hidden--visually {border: 0;clip: rect(1px 1px 1px 1px);clip: rect(1px, 1px, 1px, 1px);height: 1px;margin: -1px;overflow: hidden;padding: 0;position: absolute;width: 1px;}#sk-container-id-1 div.sk-estimator {font-family: monospace;background-color: #f0f8ff;border: 1px dotted black;border-radius: 0.25em;box-sizing: border-box;margin-bottom: 0.5em;}#sk-container-id-1 div.sk-estimator:hover {background-color: #d4ebff;}#sk-container-id-1 div.sk-parallel-item::after {content: \"\";width: 100%;border-bottom: 1px solid gray;flex-grow: 1;}#sk-container-id-1 div.sk-label:hover label.sk-toggleable__label {background-color: #d4ebff;}#sk-container-id-1 div.sk-serial::before {content: \"\";position: absolute;border-left: 1px solid gray;box-sizing: border-box;top: 0;bottom: 0;left: 50%;z-index: 0;}#sk-container-id-1 div.sk-serial {display: flex;flex-direction: column;align-items: center;background-color: white;padding-right: 0.2em;padding-left: 0.2em;position: relative;}#sk-container-id-1 div.sk-item {position: relative;z-index: 1;}#sk-container-id-1 div.sk-parallel {display: flex;align-items: stretch;justify-content: center;background-color: white;position: relative;}#sk-container-id-1 div.sk-item::before, #sk-container-id-1 div.sk-parallel-item::before {content: \"\";position: absolute;border-left: 1px solid gray;box-sizing: border-box;top: 0;bottom: 0;left: 50%;z-index: -1;}#sk-container-id-1 div.sk-parallel-item {display: flex;flex-direction: column;z-index: 1;position: relative;background-color: white;}#sk-container-id-1 div.sk-parallel-item:first-child::after {align-self: flex-end;width: 50%;}#sk-container-id-1 div.sk-parallel-item:last-child::after {align-self: flex-start;width: 50%;}#sk-container-id-1 div.sk-parallel-item:only-child::after {width: 0;}#sk-container-id-1 div.sk-dashed-wrapped {border: 1px dashed gray;margin: 0 0.4em 0.5em 0.4em;box-sizing: border-box;padding-bottom: 0.4em;background-color: white;}#sk-container-id-1 div.sk-label label {font-family: monospace;font-weight: bold;display: inline-block;line-height: 1.2em;}#sk-container-id-1 div.sk-label-container {text-align: center;}#sk-container-id-1 div.sk-container {/* jupyter's `normalize.less` sets `[hidden] { display: none; }` but bootstrap.min.css set `[hidden] { display: none !important; }` so we also need the `!important` here to be able to override the default hidden behavior on the sphinx rendered scikit-learn.org. See: https://github.com/scikit-learn/scikit-learn/issues/21755 */display: inline-block !important;position: relative;}#sk-container-id-1 div.sk-text-repr-fallback {display: none;}</style><div id=\"sk-container-id-1\" class=\"sk-top-container\"><div class=\"sk-text-repr-fallback\"><pre>LinearRegression()</pre><b>In a Jupyter environment, please rerun this cell to show the HTML representation or trust the notebook. <br />On GitHub, the HTML representation is unable to render, please try loading this page with nbviewer.org.</b></div><div class=\"sk-container\" hidden><div class=\"sk-item\"><div class=\"sk-estimator sk-toggleable\"><input class=\"sk-toggleable__control sk-hidden--visually\" id=\"sk-estimator-id-1\" type=\"checkbox\" checked><label for=\"sk-estimator-id-1\" class=\"sk-toggleable__label sk-toggleable__label-arrow\">LinearRegression</label><div class=\"sk-toggleable__content\"><pre>LinearRegression()</pre></div></div></div></div></div>"
            ]
          },
          "metadata": {},
          "execution_count": 28
        }
      ]
    },
    {
      "cell_type": "code",
      "source": [
        "print(\"Intercepto:\", regression.intercept_)\n",
        "print(\"Coeficiente de inclinação:\", regression.coef_)"
      ],
      "metadata": {
        "colab": {
          "base_uri": "https://localhost:8080/"
        },
        "id": "gx2qYdUhXha9",
        "outputId": "33e1e42d-d82a-48bf-8d4e-199be7532f44"
      },
      "execution_count": 29,
      "outputs": [
        {
          "output_type": "stream",
          "name": "stdout",
          "text": [
            "Intercepto: 0.07228948666199114\n",
            "Coeficiente de inclinação: [0.88046995]\n"
          ]
        }
      ]
    },
    {
      "cell_type": "code",
      "source": [
        "X_test = X_test.to_numpy()\n",
        "X_test = X_test.reshape(-1,1)"
      ],
      "metadata": {
        "id": "i1a6gGqKH4kS"
      },
      "execution_count": 30,
      "outputs": []
    },
    {
      "cell_type": "code",
      "source": [
        "y_hat = regression.predict(X_test)"
      ],
      "metadata": {
        "id": "B-P_DwY8FnBj"
      },
      "execution_count": 31,
      "outputs": []
    },
    {
      "cell_type": "markdown",
      "source": [
        "## Checando nossa métrica de MSE e plotando uma reta no gráfico para ver o aprendizado do modelo"
      ],
      "metadata": {
        "id": "2CjDAdOCJmfZ"
      }
    },
    {
      "cell_type": "code",
      "source": [
        "mse = mean_squared_error(y_test, y_hat)\n",
        "print('MSE : {}'.format(round(mse, 4)))"
      ],
      "metadata": {
        "colab": {
          "base_uri": "https://localhost:8080/"
        },
        "id": "bctj6Z10F2Rs",
        "outputId": "5402507b-80ca-4966-aac9-de08c9b4bb65"
      },
      "execution_count": 58,
      "outputs": [
        {
          "output_type": "stream",
          "name": "stdout",
          "text": [
            "MSE : 0.0243\n"
          ]
        }
      ]
    },
    {
      "cell_type": "markdown",
      "source": [
        "### Tivemos um MSE muito próximo de 0, poderíamos afirmar que o modelo realmente aprendeu com os dados?"
      ],
      "metadata": {
        "id": "XVFuZ9QVJt-f"
      }
    },
    {
      "cell_type": "code",
      "source": [
        "sns.scatterplot(x=X_test.flatten(), y=y_test)\n",
        "\n",
        "plt.plot(X_test.flatten(), y_hat, color='red')\n",
        "\n",
        "plt.xlabel('X')\n",
        "plt.ylabel('Y')\n",
        "\n",
        "plt.show()"
      ],
      "metadata": {
        "colab": {
          "base_uri": "https://localhost:8080/",
          "height": 449
        },
        "id": "LvfC9r6_F4WL",
        "outputId": "4f01a900-de64-4aab-b735-4033bc9f040b"
      },
      "execution_count": 33,
      "outputs": [
        {
          "output_type": "display_data",
          "data": {
            "text/plain": [
              "<Figure size 640x480 with 1 Axes>"
            ],
            "image/png": "[encoded data removed]"
          },
          "metadata": {}
        }
      ]
    },
    {
      "cell_type": "markdown",
      "source": [
        "## Iremos incluir 2 novas variáveis (\"Mobiliado\" e \"Número de quartos\") e ver as alterações no aprendizado do modelo"
      ],
      "metadata": {
        "id": "HEEpDuu2KC41"
      }
    },
    {
      "cell_type": "markdown",
      "source": [
        "### Começaremos adicionando a variáveis quartos e ver o resultado no MSE"
      ],
      "metadata": {
        "id": "Jo39OopSL6fx"
      }
    },
    {
      "cell_type": "code",
      "source": [
        "X_quarto = df_norm[['area', 'quartos']]\n",
        "y_quarto = df_norm['valor_aluguel']"
      ],
      "metadata": {
        "id": "9vY2VjEeF6UN"
      },
      "execution_count": 34,
      "outputs": []
    },
    {
      "cell_type": "code",
      "source": [
        "X_quarto_train, X_quarto_test , y_quarto_train, y_quarto_test = train_test_split(X_quarto , y_quarto , test_size = 0.25)"
      ],
      "metadata": {
        "id": "Bxd-WctdK0dL"
      },
      "execution_count": 35,
      "outputs": []
    },
    {
      "cell_type": "code",
      "source": [
        "reg_quarto = LinearRegression()\n",
        "reg_quarto.fit(X_quarto_train, y_quarto_train)"
      ],
      "metadata": {
        "colab": {
          "base_uri": "https://localhost:8080/",
          "height": 75
        },
        "id": "EBD8Rm3fK9RL",
        "outputId": "1b6ceb34-2da8-4301-a406-a51a5eff4fa9"
      },
      "execution_count": 36,
      "outputs": [
        {
          "output_type": "execute_result",
          "data": {
            "text/plain": [
              "LinearRegression()"
            ],
            "text/html": [
              "<style>#sk-container-id-2 {color: black;background-color: white;}#sk-container-id-2 pre{padding: 0;}#sk-container-id-2 div.sk-toggleable {background-color: white;}#sk-container-id-2 label.sk-toggleable__label {cursor: pointer;display: block;width: 100%;margin-bottom: 0;padding: 0.3em;box-sizing: border-box;text-align: center;}#sk-container-id-2 label.sk-toggleable__label-arrow:before {content: \"▸\";float: left;margin-right: 0.25em;color: #696969;}#sk-container-id-2 label.sk-toggleable__label-arrow:hover:before {color: black;}#sk-container-id-2 div.sk-estimator:hover label.sk-toggleable__label-arrow:before {color: black;}#sk-container-id-2 div.sk-toggleable__content {max-height: 0;max-width: 0;overflow: hidden;text-align: left;background-color: #f0f8ff;}#sk-container-id-2 div.sk-toggleable__content pre {margin: 0.2em;color: black;border-radius: 0.25em;background-color: #f0f8ff;}#sk-container-id-2 input.sk-toggleable__control:checked~div.sk-toggleable__content {max-height: 200px;max-width: 100%;overflow: auto;}#sk-container-id-2 input.sk-toggleable__control:checked~label.sk-toggleable__label-arrow:before {content: \"▾\";}#sk-container-id-2 div.sk-estimator input.sk-toggleable__control:checked~label.sk-toggleable__label {background-color: #d4ebff;}#sk-container-id-2 div.sk-label input.sk-toggleable__control:checked~label.sk-toggleable__label {background-color: #d4ebff;}#sk-container-id-2 input.sk-hidden--visually {border: 0;clip: rect(1px 1px 1px 1px);clip: rect(1px, 1px, 1px, 1px);height: 1px;margin: -1px;overflow: hidden;padding: 0;position: absolute;width: 1px;}#sk-container-id-2 div.sk-estimator {font-family: monospace;background-color: #f0f8ff;border: 1px dotted black;border-radius: 0.25em;box-sizing: border-box;margin-bottom: 0.5em;}#sk-container-id-2 div.sk-estimator:hover {background-color: #d4ebff;}#sk-container-id-2 div.sk-parallel-item::after {content: \"\";width: 100%;border-bottom: 1px solid gray;flex-grow: 1;}#sk-container-id-2 div.sk-label:hover label.sk-toggleable__label {background-color: #d4ebff;}#sk-container-id-2 div.sk-serial::before {content: \"\";position: absolute;border-left: 1px solid gray;box-sizing: border-box;top: 0;bottom: 0;left: 50%;z-index: 0;}#sk-container-id-2 div.sk-serial {display: flex;flex-direction: column;align-items: center;background-color: white;padding-right: 0.2em;padding-left: 0.2em;position: relative;}#sk-container-id-2 div.sk-item {position: relative;z-index: 1;}#sk-container-id-2 div.sk-parallel {display: flex;align-items: stretch;justify-content: center;background-color: white;position: relative;}#sk-container-id-2 div.sk-item::before, #sk-container-id-2 div.sk-parallel-item::before {content: \"\";position: absolute;border-left: 1px solid gray;box-sizing: border-box;top: 0;bottom: 0;left: 50%;z-index: -1;}#sk-container-id-2 div.sk-parallel-item {display: flex;flex-direction: column;z-index: 1;position: relative;background-color: white;}#sk-container-id-2 div.sk-parallel-item:first-child::after {align-self: flex-end;width: 50%;}#sk-container-id-2 div.sk-parallel-item:last-child::after {align-self: flex-start;width: 50%;}#sk-container-id-2 div.sk-parallel-item:only-child::after {width: 0;}#sk-container-id-2 div.sk-dashed-wrapped {border: 1px dashed gray;margin: 0 0.4em 0.5em 0.4em;box-sizing: border-box;padding-bottom: 0.4em;background-color: white;}#sk-container-id-2 div.sk-label label {font-family: monospace;font-weight: bold;display: inline-block;line-height: 1.2em;}#sk-container-id-2 div.sk-label-container {text-align: center;}#sk-container-id-2 div.sk-container {/* jupyter's `normalize.less` sets `[hidden] { display: none; }` but bootstrap.min.css set `[hidden] { display: none !important; }` so we also need the `!important` here to be able to override the default hidden behavior on the sphinx rendered scikit-learn.org. See: https://github.com/scikit-learn/scikit-learn/issues/21755 */display: inline-block !important;position: relative;}#sk-container-id-2 div.sk-text-repr-fallback {display: none;}</style><div id=\"sk-container-id-2\" class=\"sk-top-container\"><div class=\"sk-text-repr-fallback\"><pre>LinearRegression()</pre><b>In a Jupyter environment, please rerun this cell to show the HTML representation or trust the notebook. <br />On GitHub, the HTML representation is unable to render, please try loading this page with nbviewer.org.</b></div><div class=\"sk-container\" hidden><div class=\"sk-item\"><div class=\"sk-estimator sk-toggleable\"><input class=\"sk-toggleable__control sk-hidden--visually\" id=\"sk-estimator-id-2\" type=\"checkbox\" checked><label for=\"sk-estimator-id-2\" class=\"sk-toggleable__label sk-toggleable__label-arrow\">LinearRegression</label><div class=\"sk-toggleable__content\"><pre>LinearRegression()</pre></div></div></div></div></div>"
            ]
          },
          "metadata": {},
          "execution_count": 36
        }
      ]
    },
    {
      "cell_type": "code",
      "source": [
        "print(\"Intercepto:\", reg_quarto.intercept_)\n",
        "print(\"Coeficiente de inclinação:\", reg_quarto.coef_)"
      ],
      "metadata": {
        "colab": {
          "base_uri": "https://localhost:8080/"
        },
        "id": "6k0IVdCXLBKL",
        "outputId": "0b7129b2-4b4f-478b-eaad-4f384347f754"
      },
      "execution_count": 37,
      "outputs": [
        {
          "output_type": "stream",
          "name": "stdout",
          "text": [
            "Intercepto: 0.040097492716334254\n",
            "Coeficiente de inclinação: [0.80109452 0.01818532]\n"
          ]
        }
      ]
    },
    {
      "cell_type": "code",
      "source": [
        "y_quarto_hat = reg_quarto.predict(X_quarto_test)"
      ],
      "metadata": {
        "id": "pxTyk2V7LG2D"
      },
      "execution_count": 38,
      "outputs": []
    },
    {
      "cell_type": "markdown",
      "source": [
        "### Não houve alterações no aprendizado do nosso algoritmo"
      ],
      "metadata": {
        "id": "nl043DpFMAE2"
      }
    },
    {
      "cell_type": "code",
      "source": [
        "mse_quarto = mean_squared_error(y_quarto_test, y_quarto_hat)\n",
        "print('MSE com a variável quarto : {}'.format(round(mse_quarto, 4)))"
      ],
      "metadata": {
        "colab": {
          "base_uri": "https://localhost:8080/"
        },
        "id": "OT4UG0WTLrXV",
        "outputId": "820af83f-4032-48d7-d26d-3d18c19bb97d"
      },
      "execution_count": 57,
      "outputs": [
        {
          "output_type": "stream",
          "name": "stdout",
          "text": [
            "MSE com a variável quarto : 0.028\n"
          ]
        }
      ]
    },
    {
      "cell_type": "markdown",
      "source": [
        "### Adicionaremos a variável mobília agora"
      ],
      "metadata": {
        "id": "zfKa_pYBMHkX"
      }
    },
    {
      "cell_type": "code",
      "source": [
        "X_mobilia = df_norm[['area', 'quartos', 'mobiliaria']]\n",
        "y_mobilia = df_norm['valor_aluguel']"
      ],
      "metadata": {
        "id": "uCx1ISsgLz6r"
      },
      "execution_count": 40,
      "outputs": []
    },
    {
      "cell_type": "code",
      "source": [
        "X_mobilia_train, X_mobilia_test , y_mobilia_train, y_mobilia_test = train_test_split(X_mobilia , y_mobilia , test_size = 0.25)"
      ],
      "metadata": {
        "id": "bPCPcayPMTXB"
      },
      "execution_count": 41,
      "outputs": []
    },
    {
      "cell_type": "code",
      "source": [
        "reg_mobilia = LinearRegression()\n",
        "reg_mobilia.fit(X_mobilia_train, y_mobilia_train)"
      ],
      "metadata": {
        "colab": {
          "base_uri": "https://localhost:8080/",
          "height": 75
        },
        "id": "Abm4HBJlMiV7",
        "outputId": "c927875f-11d4-4e70-c75a-fd67f4a96127"
      },
      "execution_count": 42,
      "outputs": [
        {
          "output_type": "execute_result",
          "data": {
            "text/plain": [
              "LinearRegression()"
            ],
            "text/html": [
              "<style>#sk-container-id-3 {color: black;background-color: white;}#sk-container-id-3 pre{padding: 0;}#sk-container-id-3 div.sk-toggleable {background-color: white;}#sk-container-id-3 label.sk-toggleable__label {cursor: pointer;display: block;width: 100%;margin-bottom: 0;padding: 0.3em;box-sizing: border-box;text-align: center;}#sk-container-id-3 label.sk-toggleable__label-arrow:before {content: \"▸\";float: left;margin-right: 0.25em;color: #696969;}#sk-container-id-3 label.sk-toggleable__label-arrow:hover:before {color: black;}#sk-container-id-3 div.sk-estimator:hover label.sk-toggleable__label-arrow:before {color: black;}#sk-container-id-3 div.sk-toggleable__content {max-height: 0;max-width: 0;overflow: hidden;text-align: left;background-color: #f0f8ff;}#sk-container-id-3 div.sk-toggleable__content pre {margin: 0.2em;color: black;border-radius: 0.25em;background-color: #f0f8ff;}#sk-container-id-3 input.sk-toggleable__control:checked~div.sk-toggleable__content {max-height: 200px;max-width: 100%;overflow: auto;}#sk-container-id-3 input.sk-toggleable__control:checked~label.sk-toggleable__label-arrow:before {content: \"▾\";}#sk-container-id-3 div.sk-estimator input.sk-toggleable__control:checked~label.sk-toggleable__label {background-color: #d4ebff;}#sk-container-id-3 div.sk-label input.sk-toggleable__control:checked~label.sk-toggleable__label {background-color: #d4ebff;}#sk-container-id-3 input.sk-hidden--visually {border: 0;clip: rect(1px 1px 1px 1px);clip: rect(1px, 1px, 1px, 1px);height: 1px;margin: -1px;overflow: hidden;padding: 0;position: absolute;width: 1px;}#sk-container-id-3 div.sk-estimator {font-family: monospace;background-color: #f0f8ff;border: 1px dotted black;border-radius: 0.25em;box-sizing: border-box;margin-bottom: 0.5em;}#sk-container-id-3 div.sk-estimator:hover {background-color: #d4ebff;}#sk-container-id-3 div.sk-parallel-item::after {content: \"\";width: 100%;border-bottom: 1px solid gray;flex-grow: 1;}#sk-container-id-3 div.sk-label:hover label.sk-toggleable__label {background-color: #d4ebff;}#sk-container-id-3 div.sk-serial::before {content: \"\";position: absolute;border-left: 1px solid gray;box-sizing: border-box;top: 0;bottom: 0;left: 50%;z-index: 0;}#sk-container-id-3 div.sk-serial {display: flex;flex-direction: column;align-items: center;background-color: white;padding-right: 0.2em;padding-left: 0.2em;position: relative;}#sk-container-id-3 div.sk-item {position: relative;z-index: 1;}#sk-container-id-3 div.sk-parallel {display: flex;align-items: stretch;justify-content: center;background-color: white;position: relative;}#sk-container-id-3 div.sk-item::before, #sk-container-id-3 div.sk-parallel-item::before {content: \"\";position: absolute;border-left: 1px solid gray;box-sizing: border-box;top: 0;bottom: 0;left: 50%;z-index: -1;}#sk-container-id-3 div.sk-parallel-item {display: flex;flex-direction: column;z-index: 1;position: relative;background-color: white;}#sk-container-id-3 div.sk-parallel-item:first-child::after {align-self: flex-end;width: 50%;}#sk-container-id-3 div.sk-parallel-item:last-child::after {align-self: flex-start;width: 50%;}#sk-container-id-3 div.sk-parallel-item:only-child::after {width: 0;}#sk-container-id-3 div.sk-dashed-wrapped {border: 1px dashed gray;margin: 0 0.4em 0.5em 0.4em;box-sizing: border-box;padding-bottom: 0.4em;background-color: white;}#sk-container-id-3 div.sk-label label {font-family: monospace;font-weight: bold;display: inline-block;line-height: 1.2em;}#sk-container-id-3 div.sk-label-container {text-align: center;}#sk-container-id-3 div.sk-container {/* jupyter's `normalize.less` sets `[hidden] { display: none; }` but bootstrap.min.css set `[hidden] { display: none !important; }` so we also need the `!important` here to be able to override the default hidden behavior on the sphinx rendered scikit-learn.org. See: https://github.com/scikit-learn/scikit-learn/issues/21755 */display: inline-block !important;position: relative;}#sk-container-id-3 div.sk-text-repr-fallback {display: none;}</style><div id=\"sk-container-id-3\" class=\"sk-top-container\"><div class=\"sk-text-repr-fallback\"><pre>LinearRegression()</pre><b>In a Jupyter environment, please rerun this cell to show the HTML representation or trust the notebook. <br />On GitHub, the HTML representation is unable to render, please try loading this page with nbviewer.org.</b></div><div class=\"sk-container\" hidden><div class=\"sk-item\"><div class=\"sk-estimator sk-toggleable\"><input class=\"sk-toggleable__control sk-hidden--visually\" id=\"sk-estimator-id-3\" type=\"checkbox\" checked><label for=\"sk-estimator-id-3\" class=\"sk-toggleable__label sk-toggleable__label-arrow\">LinearRegression</label><div class=\"sk-toggleable__content\"><pre>LinearRegression()</pre></div></div></div></div></div>"
            ]
          },
          "metadata": {},
          "execution_count": 42
        }
      ]
    },
    {
      "cell_type": "code",
      "source": [
        "print(\"Intercepto:\", reg_mobilia.intercept_)\n",
        "print(\"Coeficiente de inclinação:\", reg_mobilia.coef_)"
      ],
      "metadata": {
        "colab": {
          "base_uri": "https://localhost:8080/"
        },
        "id": "pr2U1QECMnAt",
        "outputId": "f7f82faf-1ddc-42e2-c8f0-3b7f416487eb"
      },
      "execution_count": 43,
      "outputs": [
        {
          "output_type": "stream",
          "name": "stdout",
          "text": [
            "Intercepto: 0.007240229033312617\n",
            "Coeficiente de inclinação: [0.74997386 0.02533842 0.09971755]\n"
          ]
        }
      ]
    },
    {
      "cell_type": "code",
      "source": [
        "y_mobilia_hat = reg_mobilia.predict(X_mobilia_test)"
      ],
      "metadata": {
        "id": "qV3hVNdVMqDD"
      },
      "execution_count": 44,
      "outputs": []
    },
    {
      "cell_type": "code",
      "source": [
        "mse_mobilia = mean_squared_error(y_mobilia_test, y_mobilia_hat)\n",
        "print('MSE com a variável mobília e o quarto : {}'.format(round(mse_mobilia, 4)))"
      ],
      "metadata": {
        "colab": {
          "base_uri": "https://localhost:8080/"
        },
        "id": "drXKc182M7Ej",
        "outputId": "04660236-a599-4403-c809-45cf15c1bf31"
      },
      "execution_count": 56,
      "outputs": [
        {
          "output_type": "stream",
          "name": "stdout",
          "text": [
            "MSE com a variável mobília e o quarto : 0.0252\n"
          ]
        }
      ]
    },
    {
      "cell_type": "markdown",
      "source": [
        "# Conclusão: Não houve alterações no modelo ao adicionar as 2 variáveis (mobília e quartos). Pode até ser que elas tenham algum impacto no aprendizado do modelo, mas a variável \"área\" do nosso primeiro modelo é predominantemente mais impactante que as outras, pois mesmo adicionando outras 2 features, não houve mudanças significativas em nosso MSE"
      ],
      "metadata": {
        "id": "lqhG-udhNKXf"
      }
    },
    {
      "cell_type": "markdown",
      "source": [
        "# Testando o modelo KNN"
      ],
      "metadata": {
        "id": "sCoVkDpez1AY"
      }
    },
    {
      "cell_type": "markdown",
      "source": [
        "## Testando o modelo com uma única variável"
      ],
      "metadata": {
        "id": "LTRImK2u0VE4"
      }
    },
    {
      "cell_type": "code",
      "source": [
        "eqm_lst = []\n",
        "eqm_min = []\n",
        "eqm = 100\n",
        "\n",
        "# Percorrendo a lista K\n",
        "for i in range(50):\n",
        "  # Temos que ter essa condição i != 0, pois se de alguma maneira ele iterar o 0, o código quebra\n",
        "  if i != 0:\n",
        "    # Atribuindo o parâmetro de vizinhos pelo i, que é quem está iterando a nossa lista K\n",
        "    knn = KNeighborsRegressor(i)\n",
        "    knn.fit(X_train,y_train)\n",
        "    y_hat = knn.predict(X_test)\n",
        "    eqm = mean_squared_error(y_test , y_hat)\n",
        "    # Caso queira verificar todos os EQM, temos uma lista com todos\n",
        "    eqm_lst.append(eqm)\n",
        "    # Verificando se é o 1° valor da lista K, pois se for, não temos como comparar nada, apenas adicionar o valor\n",
        "    # Estamos comparando se o EQM atual, ou seja, do I atual, é menor do que o EQM que temos na nossa lista de eqm_min, se ele for menor, substituímos\n",
        "    if eqm < eqm_min[0]:\n",
        "      # Aqui é a nossa lista do MENOR EQM e do respectivo VIZINHO, ou seja, o valor da lista K que nos retornou o MENOR EQM\n",
        "      eqm_min[0] = eqm\n",
        "      eqm_min[1] = i\n",
        "  else:\n",
        "    # Estamos adicionando o EQM e além disso, já estamos adicionando o valor de K no mesmo array, então nós temos o menor valor e o respectivo \"vizinho\"\n",
        "    eqm_min.append(eqm)\n",
        "    eqm_min.append(i)\n",
        "    # Caso ele não seja o primeiro elemento, então temos que comparar para saber se o EQM encontrado é o menor\n",
        "\n",
        "print(f'O menor erro encontrado na lista K foi {eqm_min[0]:.4f} e o valor de K foi {eqm_min[1]}')"
      ],
      "metadata": {
        "id": "CwgKB_mIO-3s",
        "colab": {
          "base_uri": "https://localhost:8080/"
        },
        "outputId": "71837a73-196d-4269-b734-3a02e11bc8df"
      },
      "execution_count": 59,
      "outputs": [
        {
          "output_type": "stream",
          "name": "stdout",
          "text": [
            "O menor erro encontrado na lista K foi 0.0243 e o valor de K foi 49\n"
          ]
        }
      ]
    },
    {
      "cell_type": "markdown",
      "source": [
        "## Testando com 2 variáveis (área e quarto)"
      ],
      "metadata": {
        "id": "C7XHAeCy1C87"
      }
    },
    {
      "cell_type": "code",
      "source": [
        "eqm_lst = []\n",
        "eqm_min = []\n",
        "eqm = 100\n",
        "\n",
        "# Percorrendo a lista K\n",
        "for i in range(50):\n",
        "  # Temos que ter essa condição i != 0, pois se de alguma maneira ele iterar o 0, o código quebra\n",
        "  if i != 0:\n",
        "    # Atribuindo o parâmetro de vizinhos pelo i, que é quem está iterando a nossa lista K\n",
        "    knn = KNeighborsRegressor(i)\n",
        "    knn.fit(X_quarto_train,y_quarto_train)\n",
        "    y_hat = knn.predict(X_quarto_test)\n",
        "    eqm = mean_squared_error(y_quarto_test , y_hat)\n",
        "    # Caso queira verificar todos os EQM, temos uma lista com todos\n",
        "    eqm_lst.append(eqm)\n",
        "    # Verificando se é o 1° valor da lista K, pois se for, não temos como comparar nada, apenas adicionar o valor\n",
        "    # Estamos comparando se o EQM atual, ou seja, do I atual, é menor do que o EQM que temos na nossa lista de eqm_min, se ele for menor, substituímos\n",
        "    if eqm < eqm_min[0]:\n",
        "      # Aqui é a nossa lista do MENOR EQM e do respectivo VIZINHO, ou seja, o valor da lista K que nos retornou o MENOR EQM\n",
        "      eqm_min[0] = eqm\n",
        "      eqm_min[1] = i\n",
        "  else:\n",
        "    # Estamos adicionando o EQM e além disso, já estamos adicionando o valor de K no mesmo array, então nós temos o menor valor e o respectivo \"vizinho\"\n",
        "    eqm_min.append(eqm)\n",
        "    eqm_min.append(i)\n",
        "    # Caso ele não seja o primeiro elemento, então temos que comparar para saber se o EQM encontrado é o menor\n",
        "\n",
        "print(f'O menor erro encontrado na lista K foi {eqm_min[0]:.4f} e o valor de K foi {eqm_min[1]}')"
      ],
      "metadata": {
        "colab": {
          "base_uri": "https://localhost:8080/"
        },
        "id": "z9OuHRmazR5z",
        "outputId": "7d73b000-a418-4c52-cb8d-0d3dd40dcaa5"
      },
      "execution_count": 60,
      "outputs": [
        {
          "output_type": "stream",
          "name": "stdout",
          "text": [
            "O menor erro encontrado na lista K foi 0.0260 e o valor de K foi 49\n"
          ]
        }
      ]
    },
    {
      "cell_type": "markdown",
      "source": [
        "## Testando com 3 variáveis (área, quarto e mobília)"
      ],
      "metadata": {
        "id": "WbT2LgZf1SQv"
      }
    },
    {
      "cell_type": "code",
      "source": [
        "eqm_lst = []\n",
        "eqm_min = []\n",
        "eqm = 100\n",
        "\n",
        "# Percorrendo a lista K\n",
        "for i in range(50):\n",
        "  # Temos que ter essa condição i != 0, pois se de alguma maneira ele iterar o 0, o código quebra\n",
        "  if i != 0:\n",
        "    # Atribuindo o parâmetro de vizinhos pelo i, que é quem está iterando a nossa lista K\n",
        "    knn = KNeighborsRegressor(i)\n",
        "    knn.fit(X_mobilia_train,y_mobilia_train)\n",
        "    y_hat = knn.predict(X_mobilia_test)\n",
        "    eqm = mean_squared_error(y_mobilia_test , y_hat)\n",
        "    # Caso queira verificar todos os EQM, temos uma lista com todos\n",
        "    eqm_lst.append(eqm)\n",
        "    # Verificando se é o 1° valor da lista K, pois se for, não temos como comparar nada, apenas adicionar o valor\n",
        "    # Estamos comparando se o EQM atual, ou seja, do I atual, é menor do que o EQM que temos na nossa lista de eqm_min, se ele for menor, substituímos\n",
        "    if eqm < eqm_min[0]:\n",
        "      # Aqui é a nossa lista do MENOR EQM e do respectivo VIZINHO, ou seja, o valor da lista K que nos retornou o MENOR EQM\n",
        "      eqm_min[0] = eqm\n",
        "      eqm_min[1] = i\n",
        "  else:\n",
        "    # Estamos adicionando o EQM e além disso, já estamos adicionando o valor de K no mesmo array, então nós temos o menor valor e o respectivo \"vizinho\"\n",
        "    eqm_min.append(eqm)\n",
        "    eqm_min.append(i)\n",
        "    # Caso ele não seja o primeiro elemento, então temos que comparar para saber se o EQM encontrado é o menor\n",
        "\n",
        "print(f'O menor erro encontrado na lista K foi {eqm_min[0]:.4f} e o valor de K foi {eqm_min[1]}')"
      ],
      "metadata": {
        "colab": {
          "base_uri": "https://localhost:8080/"
        },
        "id": "WhXmAHpI026q",
        "outputId": "58136713-e0cc-47c3-b74e-727667ec14a9"
      },
      "execution_count": 61,
      "outputs": [
        {
          "output_type": "stream",
          "name": "stdout",
          "text": [
            "O menor erro encontrado na lista K foi 0.0243 e o valor de K foi 48\n"
          ]
        }
      ]
    },
    {
      "cell_type": "markdown",
      "source": [
        "# Conclusão 2: Mesmo adicionando outras variáveis no nosso modelo KNN, o resultado não mudou, da mesma maneira como ocorreu em nosso primeiro modelo. O que mostra ainda mais que a nossa variável \"área\" é realmente a mais impactante no aprendizado do nosso modelo dentre as 3"
      ],
      "metadata": {
        "id": "MARSvxKf1rvi"
      }
    },
    {
      "cell_type": "code",
      "source": [],
      "metadata": {
        "id": "5c3NZX_N1sp6"
      },
      "execution_count": null,
      "outputs": []
    }
  ]
}